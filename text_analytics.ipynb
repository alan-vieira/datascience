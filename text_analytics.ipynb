{
  "nbformat": 4,
  "nbformat_minor": 0,
  "metadata": {
    "colab": {
      "name": "text_analytics.ipynb",
      "provenance": [],
      "collapsed_sections": [],
      "authorship_tag": "ABX9TyOcGFYLyTh2eOco+DZdVnOj",
      "include_colab_link": true
    },
    "kernelspec": {
      "name": "python3",
      "display_name": "Python 3"
    },
    "language_info": {
      "name": "python"
    }
  },
  "cells": [
    {
      "cell_type": "markdown",
      "metadata": {
        "id": "view-in-github",
        "colab_type": "text"
      },
      "source": [
        "<a href=\"https://colab.research.google.com/github/alan-vieira/datascience/blob/main/text_analytics.ipynb\" target=\"_parent\"><img src=\"https://colab.research.google.com/assets/colab-badge.svg\" alt=\"Open In Colab\"/></a>"
      ]
    },
    {
      "cell_type": "code",
      "metadata": {
        "id": "6YQFHG4r5DwF",
        "colab": {
          "base_uri": "https://localhost:8080/"
        },
        "outputId": "2c40ad70-9bfe-4a02-c056-17d8e03bde21"
      },
      "source": [
        "!pip install spacy pyLDAvis"
      ],
      "execution_count": 1,
      "outputs": [
        {
          "output_type": "stream",
          "text": [
            "Requirement already satisfied: spacy in /usr/local/lib/python3.7/dist-packages (2.2.4)\n",
            "Requirement already satisfied: pyLDAvis in /usr/local/lib/python3.7/dist-packages (3.3.1)\n",
            "Requirement already satisfied: setuptools in /usr/local/lib/python3.7/dist-packages (from spacy) (57.0.0)\n",
            "Requirement already satisfied: wasabi<1.1.0,>=0.4.0 in /usr/local/lib/python3.7/dist-packages (from spacy) (0.8.2)\n",
            "Requirement already satisfied: requests<3.0.0,>=2.13.0 in /usr/local/lib/python3.7/dist-packages (from spacy) (2.23.0)\n",
            "Requirement already satisfied: blis<0.5.0,>=0.4.0 in /usr/local/lib/python3.7/dist-packages (from spacy) (0.4.1)\n",
            "Requirement already satisfied: numpy>=1.15.0 in /usr/local/lib/python3.7/dist-packages (from spacy) (1.19.5)\n",
            "Requirement already satisfied: thinc==7.4.0 in /usr/local/lib/python3.7/dist-packages (from spacy) (7.4.0)\n",
            "Requirement already satisfied: cymem<2.1.0,>=2.0.2 in /usr/local/lib/python3.7/dist-packages (from spacy) (2.0.5)\n",
            "Requirement already satisfied: murmurhash<1.1.0,>=0.28.0 in /usr/local/lib/python3.7/dist-packages (from spacy) (1.0.5)\n",
            "Requirement already satisfied: plac<1.2.0,>=0.9.6 in /usr/local/lib/python3.7/dist-packages (from spacy) (1.1.3)\n",
            "Requirement already satisfied: preshed<3.1.0,>=3.0.2 in /usr/local/lib/python3.7/dist-packages (from spacy) (3.0.5)\n",
            "Requirement already satisfied: tqdm<5.0.0,>=4.38.0 in /usr/local/lib/python3.7/dist-packages (from spacy) (4.41.1)\n",
            "Requirement already satisfied: catalogue<1.1.0,>=0.0.7 in /usr/local/lib/python3.7/dist-packages (from spacy) (1.0.0)\n",
            "Requirement already satisfied: srsly<1.1.0,>=1.0.2 in /usr/local/lib/python3.7/dist-packages (from spacy) (1.0.5)\n",
            "Requirement already satisfied: jinja2 in /usr/local/lib/python3.7/dist-packages (from pyLDAvis) (2.11.3)\n",
            "Requirement already satisfied: scikit-learn in /usr/local/lib/python3.7/dist-packages (from pyLDAvis) (0.22.2.post1)\n",
            "Requirement already satisfied: sklearn in /usr/local/lib/python3.7/dist-packages (from pyLDAvis) (0.0)\n",
            "Requirement already satisfied: future in /usr/local/lib/python3.7/dist-packages (from pyLDAvis) (0.16.0)\n",
            "Requirement already satisfied: gensim in /usr/local/lib/python3.7/dist-packages (from pyLDAvis) (3.6.0)\n",
            "Requirement already satisfied: pandas>=1.2.0 in /usr/local/lib/python3.7/dist-packages (from pyLDAvis) (1.2.4)\n",
            "Requirement already satisfied: funcy in /usr/local/lib/python3.7/dist-packages (from pyLDAvis) (1.16)\n",
            "Requirement already satisfied: numexpr in /usr/local/lib/python3.7/dist-packages (from pyLDAvis) (2.7.3)\n",
            "Requirement already satisfied: joblib in /usr/local/lib/python3.7/dist-packages (from pyLDAvis) (1.0.1)\n",
            "Requirement already satisfied: scipy in /usr/local/lib/python3.7/dist-packages (from pyLDAvis) (1.4.1)\n",
            "Requirement already satisfied: urllib3!=1.25.0,!=1.25.1,<1.26,>=1.21.1 in /usr/local/lib/python3.7/dist-packages (from requests<3.0.0,>=2.13.0->spacy) (1.24.3)\n",
            "Requirement already satisfied: certifi>=2017.4.17 in /usr/local/lib/python3.7/dist-packages (from requests<3.0.0,>=2.13.0->spacy) (2020.12.5)\n",
            "Requirement already satisfied: chardet<4,>=3.0.2 in /usr/local/lib/python3.7/dist-packages (from requests<3.0.0,>=2.13.0->spacy) (3.0.4)\n",
            "Requirement already satisfied: idna<3,>=2.5 in /usr/local/lib/python3.7/dist-packages (from requests<3.0.0,>=2.13.0->spacy) (2.10)\n",
            "Requirement already satisfied: importlib-metadata>=0.20; python_version < \"3.8\" in /usr/local/lib/python3.7/dist-packages (from catalogue<1.1.0,>=0.0.7->spacy) (4.0.1)\n",
            "Requirement already satisfied: MarkupSafe>=0.23 in /usr/local/lib/python3.7/dist-packages (from jinja2->pyLDAvis) (2.0.1)\n",
            "Requirement already satisfied: smart-open>=1.2.1 in /usr/local/lib/python3.7/dist-packages (from gensim->pyLDAvis) (5.0.0)\n",
            "Requirement already satisfied: six>=1.5.0 in /usr/local/lib/python3.7/dist-packages (from gensim->pyLDAvis) (1.15.0)\n",
            "Requirement already satisfied: python-dateutil>=2.7.3 in /usr/local/lib/python3.7/dist-packages (from pandas>=1.2.0->pyLDAvis) (2.8.1)\n",
            "Requirement already satisfied: pytz>=2017.3 in /usr/local/lib/python3.7/dist-packages (from pandas>=1.2.0->pyLDAvis) (2018.9)\n",
            "Requirement already satisfied: typing-extensions>=3.6.4; python_version < \"3.8\" in /usr/local/lib/python3.7/dist-packages (from importlib-metadata>=0.20; python_version < \"3.8\"->catalogue<1.1.0,>=0.0.7->spacy) (3.7.4.3)\n",
            "Requirement already satisfied: zipp>=0.5 in /usr/local/lib/python3.7/dist-packages (from importlib-metadata>=0.20; python_version < \"3.8\"->catalogue<1.1.0,>=0.0.7->spacy) (3.4.1)\n"
          ],
          "name": "stdout"
        }
      ]
    },
    {
      "cell_type": "code",
      "metadata": {
        "colab": {
          "base_uri": "https://localhost:8080/"
        },
        "id": "hMnYkG1f6tsp",
        "outputId": "3f8f4f9b-1089-4620-c1ee-2811eb0295bb"
      },
      "source": [
        "!python -m spacy download pt_core_news_sm"
      ],
      "execution_count": 2,
      "outputs": [
        {
          "output_type": "stream",
          "text": [
            "Requirement already satisfied: pt_core_news_sm==2.2.5 from https://github.com/explosion/spacy-models/releases/download/pt_core_news_sm-2.2.5/pt_core_news_sm-2.2.5.tar.gz#egg=pt_core_news_sm==2.2.5 in /usr/local/lib/python3.7/dist-packages (2.2.5)\n",
            "Requirement already satisfied: spacy>=2.2.2 in /usr/local/lib/python3.7/dist-packages (from pt_core_news_sm==2.2.5) (2.2.4)\n",
            "Requirement already satisfied: catalogue<1.1.0,>=0.0.7 in /usr/local/lib/python3.7/dist-packages (from spacy>=2.2.2->pt_core_news_sm==2.2.5) (1.0.0)\n",
            "Requirement already satisfied: cymem<2.1.0,>=2.0.2 in /usr/local/lib/python3.7/dist-packages (from spacy>=2.2.2->pt_core_news_sm==2.2.5) (2.0.5)\n",
            "Requirement already satisfied: srsly<1.1.0,>=1.0.2 in /usr/local/lib/python3.7/dist-packages (from spacy>=2.2.2->pt_core_news_sm==2.2.5) (1.0.5)\n",
            "Requirement already satisfied: preshed<3.1.0,>=3.0.2 in /usr/local/lib/python3.7/dist-packages (from spacy>=2.2.2->pt_core_news_sm==2.2.5) (3.0.5)\n",
            "Requirement already satisfied: setuptools in /usr/local/lib/python3.7/dist-packages (from spacy>=2.2.2->pt_core_news_sm==2.2.5) (57.0.0)\n",
            "Requirement already satisfied: plac<1.2.0,>=0.9.6 in /usr/local/lib/python3.7/dist-packages (from spacy>=2.2.2->pt_core_news_sm==2.2.5) (1.1.3)\n",
            "Requirement already satisfied: tqdm<5.0.0,>=4.38.0 in /usr/local/lib/python3.7/dist-packages (from spacy>=2.2.2->pt_core_news_sm==2.2.5) (4.41.1)\n",
            "Requirement already satisfied: requests<3.0.0,>=2.13.0 in /usr/local/lib/python3.7/dist-packages (from spacy>=2.2.2->pt_core_news_sm==2.2.5) (2.23.0)\n",
            "Requirement already satisfied: murmurhash<1.1.0,>=0.28.0 in /usr/local/lib/python3.7/dist-packages (from spacy>=2.2.2->pt_core_news_sm==2.2.5) (1.0.5)\n",
            "Requirement already satisfied: numpy>=1.15.0 in /usr/local/lib/python3.7/dist-packages (from spacy>=2.2.2->pt_core_news_sm==2.2.5) (1.19.5)\n",
            "Requirement already satisfied: thinc==7.4.0 in /usr/local/lib/python3.7/dist-packages (from spacy>=2.2.2->pt_core_news_sm==2.2.5) (7.4.0)\n",
            "Requirement already satisfied: blis<0.5.0,>=0.4.0 in /usr/local/lib/python3.7/dist-packages (from spacy>=2.2.2->pt_core_news_sm==2.2.5) (0.4.1)\n",
            "Requirement already satisfied: wasabi<1.1.0,>=0.4.0 in /usr/local/lib/python3.7/dist-packages (from spacy>=2.2.2->pt_core_news_sm==2.2.5) (0.8.2)\n",
            "Requirement already satisfied: importlib-metadata>=0.20; python_version < \"3.8\" in /usr/local/lib/python3.7/dist-packages (from catalogue<1.1.0,>=0.0.7->spacy>=2.2.2->pt_core_news_sm==2.2.5) (4.0.1)\n",
            "Requirement already satisfied: idna<3,>=2.5 in /usr/local/lib/python3.7/dist-packages (from requests<3.0.0,>=2.13.0->spacy>=2.2.2->pt_core_news_sm==2.2.5) (2.10)\n",
            "Requirement already satisfied: urllib3!=1.25.0,!=1.25.1,<1.26,>=1.21.1 in /usr/local/lib/python3.7/dist-packages (from requests<3.0.0,>=2.13.0->spacy>=2.2.2->pt_core_news_sm==2.2.5) (1.24.3)\n",
            "Requirement already satisfied: certifi>=2017.4.17 in /usr/local/lib/python3.7/dist-packages (from requests<3.0.0,>=2.13.0->spacy>=2.2.2->pt_core_news_sm==2.2.5) (2020.12.5)\n",
            "Requirement already satisfied: chardet<4,>=3.0.2 in /usr/local/lib/python3.7/dist-packages (from requests<3.0.0,>=2.13.0->spacy>=2.2.2->pt_core_news_sm==2.2.5) (3.0.4)\n",
            "Requirement already satisfied: typing-extensions>=3.6.4; python_version < \"3.8\" in /usr/local/lib/python3.7/dist-packages (from importlib-metadata>=0.20; python_version < \"3.8\"->catalogue<1.1.0,>=0.0.7->spacy>=2.2.2->pt_core_news_sm==2.2.5) (3.7.4.3)\n",
            "Requirement already satisfied: zipp>=0.5 in /usr/local/lib/python3.7/dist-packages (from importlib-metadata>=0.20; python_version < \"3.8\"->catalogue<1.1.0,>=0.0.7->spacy>=2.2.2->pt_core_news_sm==2.2.5) (3.4.1)\n",
            "\u001b[38;5;2m✔ Download and installation successful\u001b[0m\n",
            "You can now load the model via spacy.load('pt_core_news_sm')\n"
          ],
          "name": "stdout"
        }
      ]
    },
    {
      "cell_type": "code",
      "metadata": {
        "id": "eQZL5Mq57zuR"
      },
      "source": [
        "import pandas as pd\n",
        "import matplotlib.pyplot as plt\n",
        "import spacy\n",
        "import nltk\n",
        "import re\n",
        "from nltk import word_tokenize\n",
        "from nltk.util import ngrams\n",
        "from sklearn.decomposition import LatentDirichletAllocation\n",
        "from sklearn.feature_extraction.text import CountVectorizer\n",
        "from collections import Counter\n",
        "\n",
        "import warnings\n",
        "warnings.filterwarnings('ignore')"
      ],
      "execution_count": 3,
      "outputs": []
    },
    {
      "cell_type": "code",
      "metadata": {
        "colab": {
          "base_uri": "https://localhost:8080/"
        },
        "id": "BlqY8XX284Nv",
        "outputId": "6507eff1-2a1b-425f-e529-cf8cc178243d"
      },
      "source": [
        "nltk.download('punkt')"
      ],
      "execution_count": 4,
      "outputs": [
        {
          "output_type": "stream",
          "text": [
            "[nltk_data] Downloading package punkt to /root/nltk_data...\n",
            "[nltk_data]   Package punkt is already up-to-date!\n"
          ],
          "name": "stdout"
        },
        {
          "output_type": "execute_result",
          "data": {
            "text/plain": [
              "True"
            ]
          },
          "metadata": {
            "tags": []
          },
          "execution_count": 4
        }
      ]
    },
    {
      "cell_type": "markdown",
      "metadata": {
        "id": "dR_38esk9GTu"
      },
      "source": [
        "# Conjunto de dados"
      ]
    },
    {
      "cell_type": "code",
      "metadata": {
        "id": "T2QM1u7hADrB"
      },
      "source": [
        "news = pd.read_csv(\"https://www.dropbox.com/s/p3ywl8wpm2rzzk2/articles.csv?dl=1\")"
      ],
      "execution_count": 5,
      "outputs": []
    },
    {
      "cell_type": "code",
      "metadata": {
        "colab": {
          "base_uri": "https://localhost:8080/",
          "height": 289
        },
        "id": "zVImGtVsClbq",
        "outputId": "f7d50017-f0e8-49cc-d9dd-cef1436f4f97"
      },
      "source": [
        "news.head()"
      ],
      "execution_count": 6,
      "outputs": [
        {
          "output_type": "execute_result",
          "data": {
            "text/html": [
              "<div>\n",
              "<style scoped>\n",
              "    .dataframe tbody tr th:only-of-type {\n",
              "        vertical-align: middle;\n",
              "    }\n",
              "\n",
              "    .dataframe tbody tr th {\n",
              "        vertical-align: top;\n",
              "    }\n",
              "\n",
              "    .dataframe thead th {\n",
              "        text-align: right;\n",
              "    }\n",
              "</style>\n",
              "<table border=\"1\" class=\"dataframe\">\n",
              "  <thead>\n",
              "    <tr style=\"text-align: right;\">\n",
              "      <th></th>\n",
              "      <th>title</th>\n",
              "      <th>text</th>\n",
              "      <th>date</th>\n",
              "      <th>category</th>\n",
              "      <th>subcategory</th>\n",
              "      <th>link</th>\n",
              "    </tr>\n",
              "  </thead>\n",
              "  <tbody>\n",
              "    <tr>\n",
              "      <th>0</th>\n",
              "      <td>Lula diz que está 'lascado', mas que ainda tem...</td>\n",
              "      <td>Com a possibilidade de uma condenação impedir ...</td>\n",
              "      <td>2017-09-10</td>\n",
              "      <td>poder</td>\n",
              "      <td>NaN</td>\n",
              "      <td>http://www1.folha.uol.com.br/poder/2017/10/192...</td>\n",
              "    </tr>\n",
              "    <tr>\n",
              "      <th>1</th>\n",
              "      <td>'Decidi ser escrava das mulheres que sofrem', ...</td>\n",
              "      <td>Para Oumou Sangaré, cantora e ativista malines...</td>\n",
              "      <td>2017-09-10</td>\n",
              "      <td>ilustrada</td>\n",
              "      <td>NaN</td>\n",
              "      <td>http://www1.folha.uol.com.br/ilustrada/2017/10...</td>\n",
              "    </tr>\n",
              "    <tr>\n",
              "      <th>2</th>\n",
              "      <td>Três reportagens da Folha ganham Prêmio Petrob...</td>\n",
              "      <td>Três reportagens da Folha foram vencedoras do ...</td>\n",
              "      <td>2017-09-10</td>\n",
              "      <td>poder</td>\n",
              "      <td>NaN</td>\n",
              "      <td>http://www1.folha.uol.com.br/poder/2017/10/192...</td>\n",
              "    </tr>\n",
              "    <tr>\n",
              "      <th>3</th>\n",
              "      <td>Filme 'Star Wars: Os Últimos Jedi' ganha trail...</td>\n",
              "      <td>A Disney divulgou na noite desta segunda-feira...</td>\n",
              "      <td>2017-09-10</td>\n",
              "      <td>ilustrada</td>\n",
              "      <td>NaN</td>\n",
              "      <td>http://www1.folha.uol.com.br/ilustrada/2017/10...</td>\n",
              "    </tr>\n",
              "    <tr>\n",
              "      <th>4</th>\n",
              "      <td>CBSS inicia acordos com fintechs e quer 30% do...</td>\n",
              "      <td>O CBSS, banco da holding Elopar dos sócios Bra...</td>\n",
              "      <td>2017-09-10</td>\n",
              "      <td>mercado</td>\n",
              "      <td>NaN</td>\n",
              "      <td>http://www1.folha.uol.com.br/mercado/2017/10/1...</td>\n",
              "    </tr>\n",
              "  </tbody>\n",
              "</table>\n",
              "</div>"
            ],
            "text/plain": [
              "                                               title  ...                                               link\n",
              "0  Lula diz que está 'lascado', mas que ainda tem...  ...  http://www1.folha.uol.com.br/poder/2017/10/192...\n",
              "1  'Decidi ser escrava das mulheres que sofrem', ...  ...  http://www1.folha.uol.com.br/ilustrada/2017/10...\n",
              "2  Três reportagens da Folha ganham Prêmio Petrob...  ...  http://www1.folha.uol.com.br/poder/2017/10/192...\n",
              "3  Filme 'Star Wars: Os Últimos Jedi' ganha trail...  ...  http://www1.folha.uol.com.br/ilustrada/2017/10...\n",
              "4  CBSS inicia acordos com fintechs e quer 30% do...  ...  http://www1.folha.uol.com.br/mercado/2017/10/1...\n",
              "\n",
              "[5 rows x 6 columns]"
            ]
          },
          "metadata": {
            "tags": []
          },
          "execution_count": 6
        }
      ]
    },
    {
      "cell_type": "markdown",
      "metadata": {
        "id": "E8-0mZKoEK6N"
      },
      "source": [
        "Filtrar por turismo"
      ]
    },
    {
      "cell_type": "code",
      "metadata": {
        "id": "P2estAGUEPM5"
      },
      "source": [
        "turismo = news[news['category'] == 'turismo']"
      ],
      "execution_count": 7,
      "outputs": []
    },
    {
      "cell_type": "code",
      "metadata": {
        "colab": {
          "base_uri": "https://localhost:8080/"
        },
        "id": "DruvQzXvEiow",
        "outputId": "a366ab3f-fd31-4a7f-e8b2-207d721a8ec7"
      },
      "source": [
        "turismo.info()"
      ],
      "execution_count": 8,
      "outputs": [
        {
          "output_type": "stream",
          "text": [
            "<class 'pandas.core.frame.DataFrame'>\n",
            "Int64Index: 1903 entries, 381 to 167031\n",
            "Data columns (total 6 columns):\n",
            " #   Column       Non-Null Count  Dtype \n",
            "---  ------       --------------  ----- \n",
            " 0   title        1903 non-null   object\n",
            " 1   text         1903 non-null   object\n",
            " 2   date         1903 non-null   object\n",
            " 3   category     1903 non-null   object\n",
            " 4   subcategory  0 non-null      object\n",
            " 5   link         1903 non-null   object\n",
            "dtypes: object(6)\n",
            "memory usage: 104.1+ KB\n"
          ],
          "name": "stdout"
        }
      ]
    },
    {
      "cell_type": "code",
      "metadata": {
        "id": "vEA7jUIfNe2O"
      },
      "source": [
        "def limpa_texto(texto):\n",
        "  # remove caracreres no fim de uma linha\n",
        "\tc = re.sub(r'\\n', ' ', texto)\n",
        "\tc = re.sub(r'\\n', ' ', c)\n",
        "\t\n",
        "  # remove caracteres alfanumericos\n",
        "\tc = c.replace(':', '')\n",
        "  # removendo barra caso exista no texto\n",
        "\tc = c.replace('/', '')\n",
        "  # removendo R$ por vazio\n",
        "\tc = re.sub(r'R\\$', '', c)\n",
        "\tc = re.sub(r'\\W', ' ', c)\n",
        "\t\n",
        "  ## removendo multiplos espaços\n",
        "\tc = re.sub(r'\\s+', ' ', c)\n",
        " \n",
        "  ## dando um trim na frase (removendo espaços no inicio e final de uma frase)\n",
        "\tc = re.sub(r'^\\s+', '', c)\n",
        "\tc = re.sub(r'\\s+$', '', c)\n",
        "\t\n",
        "\treturn c.lower()"
      ],
      "execution_count": 9,
      "outputs": []
    },
    {
      "cell_type": "code",
      "metadata": {
        "id": "6DlIeo2yOand"
      },
      "source": [
        "from spacy.lang.pt import Portuguese"
      ],
      "execution_count": 10,
      "outputs": []
    },
    {
      "cell_type": "code",
      "metadata": {
        "id": "-E9HrhDZOoAU"
      },
      "source": [
        "STOP_WORDS = spacy.lang.pt.stop_words.STOP_WORDS"
      ],
      "execution_count": 11,
      "outputs": []
    },
    {
      "cell_type": "code",
      "metadata": {
        "colab": {
          "base_uri": "https://localhost:8080/"
        },
        "id": "2r8WcqVFO2u7",
        "outputId": "b8f18556-7c04-4111-f069-3b83f6b961c4"
      },
      "source": [
        "STOP_WORDS"
      ],
      "execution_count": 12,
      "outputs": [
        {
          "output_type": "execute_result",
          "data": {
            "text/plain": [
              "{'acerca',\n",
              " 'ademais',\n",
              " 'adeus',\n",
              " 'agora',\n",
              " 'ainda',\n",
              " 'algo',\n",
              " 'algumas',\n",
              " 'alguns',\n",
              " 'ali',\n",
              " 'além',\n",
              " 'ambas',\n",
              " 'ambos',\n",
              " 'antes',\n",
              " 'ao',\n",
              " 'aos',\n",
              " 'apenas',\n",
              " 'apoia',\n",
              " 'apoio',\n",
              " 'apontar',\n",
              " 'após',\n",
              " 'aquela',\n",
              " 'aquelas',\n",
              " 'aquele',\n",
              " 'aqueles',\n",
              " 'aqui',\n",
              " 'aquilo',\n",
              " 'as',\n",
              " 'assim',\n",
              " 'através',\n",
              " 'atrás',\n",
              " 'até',\n",
              " 'aí',\n",
              " 'baixo',\n",
              " 'bastante',\n",
              " 'bem',\n",
              " 'boa',\n",
              " 'bom',\n",
              " 'breve',\n",
              " 'cada',\n",
              " 'caminho',\n",
              " 'catorze',\n",
              " 'cedo',\n",
              " 'cento',\n",
              " 'certamente',\n",
              " 'certeza',\n",
              " 'cima',\n",
              " 'cinco',\n",
              " 'coisa',\n",
              " 'com',\n",
              " 'como',\n",
              " 'comprida',\n",
              " 'comprido',\n",
              " 'conhecida',\n",
              " 'conhecido',\n",
              " 'conselho',\n",
              " 'contra',\n",
              " 'contudo',\n",
              " 'corrente',\n",
              " 'cuja',\n",
              " 'cujo',\n",
              " 'custa',\n",
              " 'cá',\n",
              " 'da',\n",
              " 'daquela',\n",
              " 'daquele',\n",
              " 'dar',\n",
              " 'das',\n",
              " 'de',\n",
              " 'debaixo',\n",
              " 'demais',\n",
              " 'dentro',\n",
              " 'depois',\n",
              " 'des',\n",
              " 'desde',\n",
              " 'dessa',\n",
              " 'desse',\n",
              " 'desta',\n",
              " 'deste',\n",
              " 'deve',\n",
              " 'devem',\n",
              " 'deverá',\n",
              " 'dez',\n",
              " 'dezanove',\n",
              " 'dezasseis',\n",
              " 'dezassete',\n",
              " 'dezoito',\n",
              " 'diante',\n",
              " 'direita',\n",
              " 'disso',\n",
              " 'diz',\n",
              " 'dizem',\n",
              " 'dizer',\n",
              " 'do',\n",
              " 'dois',\n",
              " 'dos',\n",
              " 'doze',\n",
              " 'duas',\n",
              " 'dá',\n",
              " 'dão',\n",
              " 'ela',\n",
              " 'elas',\n",
              " 'ele',\n",
              " 'eles',\n",
              " 'em',\n",
              " 'embora',\n",
              " 'enquanto',\n",
              " 'entre',\n",
              " 'então',\n",
              " 'era',\n",
              " 'essa',\n",
              " 'essas',\n",
              " 'esse',\n",
              " 'esses',\n",
              " 'esta',\n",
              " 'estado',\n",
              " 'estar',\n",
              " 'estará',\n",
              " 'estas',\n",
              " 'estava',\n",
              " 'este',\n",
              " 'estes',\n",
              " 'esteve',\n",
              " 'estive',\n",
              " 'estivemos',\n",
              " 'estiveram',\n",
              " 'estiveste',\n",
              " 'estivestes',\n",
              " 'estou',\n",
              " 'está',\n",
              " 'estás',\n",
              " 'estão',\n",
              " 'eu',\n",
              " 'eventual',\n",
              " 'exemplo',\n",
              " 'falta',\n",
              " 'fará',\n",
              " 'favor',\n",
              " 'faz',\n",
              " 'fazeis',\n",
              " 'fazem',\n",
              " 'fazemos',\n",
              " 'fazer',\n",
              " 'fazes',\n",
              " 'fazia',\n",
              " 'faço',\n",
              " 'fez',\n",
              " 'fim',\n",
              " 'final',\n",
              " 'foi',\n",
              " 'fomos',\n",
              " 'for',\n",
              " 'fora',\n",
              " 'foram',\n",
              " 'forma',\n",
              " 'foste',\n",
              " 'fostes',\n",
              " 'fui',\n",
              " 'geral',\n",
              " 'grande',\n",
              " 'grandes',\n",
              " 'grupo',\n",
              " 'inclusive',\n",
              " 'iniciar',\n",
              " 'inicio',\n",
              " 'ir',\n",
              " 'irá',\n",
              " 'isso',\n",
              " 'isto',\n",
              " 'já',\n",
              " 'lado',\n",
              " 'lhe',\n",
              " 'ligado',\n",
              " 'local',\n",
              " 'logo',\n",
              " 'longe',\n",
              " 'lugar',\n",
              " 'lá',\n",
              " 'maior',\n",
              " 'maioria',\n",
              " 'maiorias',\n",
              " 'mais',\n",
              " 'mal',\n",
              " 'mas',\n",
              " 'me',\n",
              " 'meio',\n",
              " 'menor',\n",
              " 'menos',\n",
              " 'meses',\n",
              " 'mesmo',\n",
              " 'meu',\n",
              " 'meus',\n",
              " 'mil',\n",
              " 'minha',\n",
              " 'minhas',\n",
              " 'momento',\n",
              " 'muito',\n",
              " 'muitos',\n",
              " 'máximo',\n",
              " 'mês',\n",
              " 'na',\n",
              " 'nada',\n",
              " 'naquela',\n",
              " 'naquele',\n",
              " 'nas',\n",
              " 'nem',\n",
              " 'nenhuma',\n",
              " 'nessa',\n",
              " 'nesse',\n",
              " 'nesta',\n",
              " 'neste',\n",
              " 'no',\n",
              " 'nos',\n",
              " 'nossa',\n",
              " 'nossas',\n",
              " 'nosso',\n",
              " 'nossos',\n",
              " 'nova',\n",
              " 'novas',\n",
              " 'nove',\n",
              " 'novo',\n",
              " 'novos',\n",
              " 'num',\n",
              " 'numa',\n",
              " 'nunca',\n",
              " 'nuns',\n",
              " 'não',\n",
              " 'nível',\n",
              " 'nós',\n",
              " 'número',\n",
              " 'números',\n",
              " 'obrigada',\n",
              " 'obrigado',\n",
              " 'oitava',\n",
              " 'oitavo',\n",
              " 'oito',\n",
              " 'onde',\n",
              " 'ontem',\n",
              " 'onze',\n",
              " 'ora',\n",
              " 'os',\n",
              " 'ou',\n",
              " 'outra',\n",
              " 'outras',\n",
              " 'outros',\n",
              " 'para',\n",
              " 'parece',\n",
              " 'parte',\n",
              " 'partir',\n",
              " 'pegar',\n",
              " 'pela',\n",
              " 'pelas',\n",
              " 'pelo',\n",
              " 'pelos',\n",
              " 'perto',\n",
              " 'pode',\n",
              " 'podem',\n",
              " 'poder',\n",
              " 'poderá',\n",
              " 'podia',\n",
              " 'pois',\n",
              " 'ponto',\n",
              " 'pontos',\n",
              " 'por',\n",
              " 'porquanto',\n",
              " 'porque',\n",
              " 'porquê',\n",
              " 'portanto',\n",
              " 'porém',\n",
              " 'posição',\n",
              " 'possivelmente',\n",
              " 'posso',\n",
              " 'possível',\n",
              " 'pouca',\n",
              " 'pouco',\n",
              " 'povo',\n",
              " 'primeira',\n",
              " 'primeiro',\n",
              " 'próprio',\n",
              " 'próxima',\n",
              " 'próximo',\n",
              " 'puderam',\n",
              " 'pôde',\n",
              " 'põe',\n",
              " 'põem',\n",
              " 'quais',\n",
              " 'qual',\n",
              " 'qualquer',\n",
              " 'quando',\n",
              " 'quanto',\n",
              " 'quarta',\n",
              " 'quarto',\n",
              " 'quatro',\n",
              " 'que',\n",
              " 'quem',\n",
              " 'quer',\n",
              " 'querem',\n",
              " 'quero',\n",
              " 'questão',\n",
              " 'quieta',\n",
              " 'quieto',\n",
              " 'quinta',\n",
              " 'quinto',\n",
              " 'quinze',\n",
              " 'quê',\n",
              " 'relação',\n",
              " 'sabe',\n",
              " 'saber',\n",
              " 'se',\n",
              " 'segunda',\n",
              " 'segundo',\n",
              " 'sei',\n",
              " 'seis',\n",
              " 'sem',\n",
              " 'sempre',\n",
              " 'ser',\n",
              " 'seria',\n",
              " 'sete',\n",
              " 'seu',\n",
              " 'seus',\n",
              " 'sexta',\n",
              " 'sexto',\n",
              " 'sim',\n",
              " 'sistema',\n",
              " 'sob',\n",
              " 'sobre',\n",
              " 'sois',\n",
              " 'somente',\n",
              " 'somos',\n",
              " 'sou',\n",
              " 'sua',\n",
              " 'suas',\n",
              " 'são',\n",
              " 'sétima',\n",
              " 'sétimo',\n",
              " 'só',\n",
              " 'tais',\n",
              " 'tal',\n",
              " 'talvez',\n",
              " 'também',\n",
              " 'tanta',\n",
              " 'tanto',\n",
              " 'tarde',\n",
              " 'te',\n",
              " 'tem',\n",
              " 'temos',\n",
              " 'tempo',\n",
              " 'tendes',\n",
              " 'tenho',\n",
              " 'tens',\n",
              " 'tentar',\n",
              " 'tentaram',\n",
              " 'tente',\n",
              " 'tentei',\n",
              " 'ter',\n",
              " 'terceira',\n",
              " 'terceiro',\n",
              " 'teu',\n",
              " 'teus',\n",
              " 'teve',\n",
              " 'tipo',\n",
              " 'tive',\n",
              " 'tivemos',\n",
              " 'tiveram',\n",
              " 'tiveste',\n",
              " 'tivestes',\n",
              " 'toda',\n",
              " 'todas',\n",
              " 'todo',\n",
              " 'todos',\n",
              " 'treze',\n",
              " 'três',\n",
              " 'tu',\n",
              " 'tua',\n",
              " 'tuas',\n",
              " 'tudo',\n",
              " 'tão',\n",
              " 'têm',\n",
              " 'um',\n",
              " 'uma',\n",
              " 'umas',\n",
              " 'uns',\n",
              " 'usa',\n",
              " 'usar',\n",
              " 'vai',\n",
              " 'vais',\n",
              " 'valor',\n",
              " 'veja',\n",
              " 'vem',\n",
              " 'vens',\n",
              " 'ver',\n",
              " 'vez',\n",
              " 'vezes',\n",
              " 'vinda',\n",
              " 'vindo',\n",
              " 'vinte',\n",
              " 'você',\n",
              " 'vocês',\n",
              " 'vos',\n",
              " 'vossa',\n",
              " 'vossas',\n",
              " 'vosso',\n",
              " 'vossos',\n",
              " 'vários',\n",
              " 'vão',\n",
              " 'vêm',\n",
              " 'vós',\n",
              " 'zero',\n",
              " 'à',\n",
              " 'às',\n",
              " 'área',\n",
              " 'é',\n",
              " 'és',\n",
              " 'último'}"
            ]
          },
          "metadata": {
            "tags": []
          },
          "execution_count": 12
        }
      ]
    },
    {
      "cell_type": "code",
      "metadata": {
        "id": "NPg-NDxLPHhc"
      },
      "source": [
        "def remove_stop(texto):\n",
        "  doc = nlp_pt(texto)\n",
        "  return \" \".join(x.text for x in doc if x.text not in STOP_WORDS)"
      ],
      "execution_count": 13,
      "outputs": []
    },
    {
      "cell_type": "code",
      "metadata": {
        "id": "Yvi6tfi3PsGT"
      },
      "source": [
        "def limpa_texto2(texto):\n",
        "  doc = nlp_pt(texto)\n",
        "  return \" \".join(x.lemma_ for x in doc if x.text not in STOP_WORDS)"
      ],
      "execution_count": 14,
      "outputs": []
    },
    {
      "cell_type": "markdown",
      "metadata": {
        "id": "aU7QdVadQLUu"
      },
      "source": [
        "# Análise Exploratória"
      ]
    },
    {
      "cell_type": "markdown",
      "metadata": {
        "id": "fx1IfFwKQZYG"
      },
      "source": [
        "1. número de palavras no título das notícias"
      ]
    },
    {
      "cell_type": "code",
      "metadata": {
        "id": "sgX3m3TaQQTV"
      },
      "source": [
        "turismo['title_n_words'] = turismo['title'].apply(lambda x : len(x.split()))"
      ],
      "execution_count": 15,
      "outputs": []
    },
    {
      "cell_type": "code",
      "metadata": {
        "colab": {
          "base_uri": "https://localhost:8080/",
          "height": 289
        },
        "id": "-wBYSsIjRVqA",
        "outputId": "a222c9b7-5470-4b37-f677-a425c740544d"
      },
      "source": [
        "turismo.head()"
      ],
      "execution_count": 16,
      "outputs": [
        {
          "output_type": "execute_result",
          "data": {
            "text/html": [
              "<div>\n",
              "<style scoped>\n",
              "    .dataframe tbody tr th:only-of-type {\n",
              "        vertical-align: middle;\n",
              "    }\n",
              "\n",
              "    .dataframe tbody tr th {\n",
              "        vertical-align: top;\n",
              "    }\n",
              "\n",
              "    .dataframe thead th {\n",
              "        text-align: right;\n",
              "    }\n",
              "</style>\n",
              "<table border=\"1\" class=\"dataframe\">\n",
              "  <thead>\n",
              "    <tr style=\"text-align: right;\">\n",
              "      <th></th>\n",
              "      <th>title</th>\n",
              "      <th>text</th>\n",
              "      <th>date</th>\n",
              "      <th>category</th>\n",
              "      <th>subcategory</th>\n",
              "      <th>link</th>\n",
              "      <th>title_n_words</th>\n",
              "    </tr>\n",
              "  </thead>\n",
              "  <tbody>\n",
              "    <tr>\n",
              "      <th>381</th>\n",
              "      <td>Latam inaugura voo direto de 15 horas entre Ch...</td>\n",
              "      <td>Animem-se os que pretendem cruzar o Pacífico e...</td>\n",
              "      <td>2017-06-10</td>\n",
              "      <td>turismo</td>\n",
              "      <td>NaN</td>\n",
              "      <td>http://www1.folha.uol.com.br/turismo/2017/10/1...</td>\n",
              "      <td>11</td>\n",
              "    </tr>\n",
              "    <tr>\n",
              "      <th>414</th>\n",
              "      <td>Turismo de Las Vegas deve se recuperar em mese...</td>\n",
              "      <td>O massacre em Las Vegas afetará o turismo da c...</td>\n",
              "      <td>2017-06-10</td>\n",
              "      <td>turismo</td>\n",
              "      <td>NaN</td>\n",
              "      <td>http://www1.folha.uol.com.br/turismo/2017/10/1...</td>\n",
              "      <td>11</td>\n",
              "    </tr>\n",
              "    <tr>\n",
              "      <th>522</th>\n",
              "      <td>Brasileiro cria app para economizar no passeio...</td>\n",
              "      <td>Com cerca de 50 mil visitantes por dia, Veneza...</td>\n",
              "      <td>2017-05-10</td>\n",
              "      <td>turismo</td>\n",
              "      <td>NaN</td>\n",
              "      <td>http://www1.folha.uol.com.br/turismo/2017/10/1...</td>\n",
              "      <td>11</td>\n",
              "    </tr>\n",
              "    <tr>\n",
              "      <th>602</th>\n",
              "      <td>AirBnB passa a fazer reserva de restaurantes</td>\n",
              "      <td>A plataforma de hospedagem Airbnb anunciou que...</td>\n",
              "      <td>2017-05-10</td>\n",
              "      <td>turismo</td>\n",
              "      <td>NaN</td>\n",
              "      <td>http://www1.folha.uol.com.br/turismo/2017/10/1...</td>\n",
              "      <td>7</td>\n",
              "    </tr>\n",
              "    <tr>\n",
              "      <th>609</th>\n",
              "      <td>Museus lembram quatro décadas de opressão sovi...</td>\n",
              "      <td>Nos países que viveram sob a órbita da União S...</td>\n",
              "      <td>2017-05-10</td>\n",
              "      <td>turismo</td>\n",
              "      <td>NaN</td>\n",
              "      <td>http://www1.folha.uol.com.br/turismo/2017/10/1...</td>\n",
              "      <td>10</td>\n",
              "    </tr>\n",
              "  </tbody>\n",
              "</table>\n",
              "</div>"
            ],
            "text/plain": [
              "                                                 title  ... title_n_words\n",
              "381  Latam inaugura voo direto de 15 horas entre Ch...  ...            11\n",
              "414  Turismo de Las Vegas deve se recuperar em mese...  ...            11\n",
              "522  Brasileiro cria app para economizar no passeio...  ...            11\n",
              "602       AirBnB passa a fazer reserva de restaurantes  ...             7\n",
              "609  Museus lembram quatro décadas de opressão sovi...  ...            10\n",
              "\n",
              "[5 rows x 7 columns]"
            ]
          },
          "metadata": {
            "tags": []
          },
          "execution_count": 16
        }
      ]
    },
    {
      "cell_type": "code",
      "metadata": {
        "colab": {
          "base_uri": "https://localhost:8080/",
          "height": 297
        },
        "id": "KzhxN2feSCWm",
        "outputId": "e6298f80-aae7-4a0b-d31f-7b33581263fd"
      },
      "source": [
        "turismo.describe()"
      ],
      "execution_count": 17,
      "outputs": [
        {
          "output_type": "execute_result",
          "data": {
            "text/html": [
              "<div>\n",
              "<style scoped>\n",
              "    .dataframe tbody tr th:only-of-type {\n",
              "        vertical-align: middle;\n",
              "    }\n",
              "\n",
              "    .dataframe tbody tr th {\n",
              "        vertical-align: top;\n",
              "    }\n",
              "\n",
              "    .dataframe thead th {\n",
              "        text-align: right;\n",
              "    }\n",
              "</style>\n",
              "<table border=\"1\" class=\"dataframe\">\n",
              "  <thead>\n",
              "    <tr style=\"text-align: right;\">\n",
              "      <th></th>\n",
              "      <th>title_n_words</th>\n",
              "    </tr>\n",
              "  </thead>\n",
              "  <tbody>\n",
              "    <tr>\n",
              "      <th>count</th>\n",
              "      <td>1903.000000</td>\n",
              "    </tr>\n",
              "    <tr>\n",
              "      <th>mean</th>\n",
              "      <td>10.923805</td>\n",
              "    </tr>\n",
              "    <tr>\n",
              "      <th>std</th>\n",
              "      <td>1.812440</td>\n",
              "    </tr>\n",
              "    <tr>\n",
              "      <th>min</th>\n",
              "      <td>4.000000</td>\n",
              "    </tr>\n",
              "    <tr>\n",
              "      <th>25%</th>\n",
              "      <td>10.000000</td>\n",
              "    </tr>\n",
              "    <tr>\n",
              "      <th>50%</th>\n",
              "      <td>11.000000</td>\n",
              "    </tr>\n",
              "    <tr>\n",
              "      <th>75%</th>\n",
              "      <td>12.000000</td>\n",
              "    </tr>\n",
              "    <tr>\n",
              "      <th>max</th>\n",
              "      <td>20.000000</td>\n",
              "    </tr>\n",
              "  </tbody>\n",
              "</table>\n",
              "</div>"
            ],
            "text/plain": [
              "       title_n_words\n",
              "count    1903.000000\n",
              "mean       10.923805\n",
              "std         1.812440\n",
              "min         4.000000\n",
              "25%        10.000000\n",
              "50%        11.000000\n",
              "75%        12.000000\n",
              "max        20.000000"
            ]
          },
          "metadata": {
            "tags": []
          },
          "execution_count": 17
        }
      ]
    },
    {
      "cell_type": "markdown",
      "metadata": {
        "id": "ff4gRsjASXBx"
      },
      "source": [
        "2. Número de caracteres no título das notícias"
      ]
    },
    {
      "cell_type": "code",
      "metadata": {
        "id": "STQoj71dSVTn"
      },
      "source": [
        "turismo['title_n_chars'] = turismo['title'].apply(lambda x : len(x.replace(\" \", \"\")))"
      ],
      "execution_count": 18,
      "outputs": []
    },
    {
      "cell_type": "code",
      "metadata": {
        "colab": {
          "base_uri": "https://localhost:8080/",
          "height": 289
        },
        "id": "OzIQOPizS_uj",
        "outputId": "23d2d017-c949-4d41-cc39-689ad2203971"
      },
      "source": [
        "turismo.head()"
      ],
      "execution_count": 19,
      "outputs": [
        {
          "output_type": "execute_result",
          "data": {
            "text/html": [
              "<div>\n",
              "<style scoped>\n",
              "    .dataframe tbody tr th:only-of-type {\n",
              "        vertical-align: middle;\n",
              "    }\n",
              "\n",
              "    .dataframe tbody tr th {\n",
              "        vertical-align: top;\n",
              "    }\n",
              "\n",
              "    .dataframe thead th {\n",
              "        text-align: right;\n",
              "    }\n",
              "</style>\n",
              "<table border=\"1\" class=\"dataframe\">\n",
              "  <thead>\n",
              "    <tr style=\"text-align: right;\">\n",
              "      <th></th>\n",
              "      <th>title</th>\n",
              "      <th>text</th>\n",
              "      <th>date</th>\n",
              "      <th>category</th>\n",
              "      <th>subcategory</th>\n",
              "      <th>link</th>\n",
              "      <th>title_n_words</th>\n",
              "      <th>title_n_chars</th>\n",
              "    </tr>\n",
              "  </thead>\n",
              "  <tbody>\n",
              "    <tr>\n",
              "      <th>381</th>\n",
              "      <td>Latam inaugura voo direto de 15 horas entre Ch...</td>\n",
              "      <td>Animem-se os que pretendem cruzar o Pacífico e...</td>\n",
              "      <td>2017-06-10</td>\n",
              "      <td>turismo</td>\n",
              "      <td>NaN</td>\n",
              "      <td>http://www1.folha.uol.com.br/turismo/2017/10/1...</td>\n",
              "      <td>11</td>\n",
              "      <td>51</td>\n",
              "    </tr>\n",
              "    <tr>\n",
              "      <th>414</th>\n",
              "      <td>Turismo de Las Vegas deve se recuperar em mese...</td>\n",
              "      <td>O massacre em Las Vegas afetará o turismo da c...</td>\n",
              "      <td>2017-06-10</td>\n",
              "      <td>turismo</td>\n",
              "      <td>NaN</td>\n",
              "      <td>http://www1.folha.uol.com.br/turismo/2017/10/1...</td>\n",
              "      <td>11</td>\n",
              "      <td>54</td>\n",
              "    </tr>\n",
              "    <tr>\n",
              "      <th>522</th>\n",
              "      <td>Brasileiro cria app para economizar no passeio...</td>\n",
              "      <td>Com cerca de 50 mil visitantes por dia, Veneza...</td>\n",
              "      <td>2017-05-10</td>\n",
              "      <td>turismo</td>\n",
              "      <td>NaN</td>\n",
              "      <td>http://www1.folha.uol.com.br/turismo/2017/10/1...</td>\n",
              "      <td>11</td>\n",
              "      <td>58</td>\n",
              "    </tr>\n",
              "    <tr>\n",
              "      <th>602</th>\n",
              "      <td>AirBnB passa a fazer reserva de restaurantes</td>\n",
              "      <td>A plataforma de hospedagem Airbnb anunciou que...</td>\n",
              "      <td>2017-05-10</td>\n",
              "      <td>turismo</td>\n",
              "      <td>NaN</td>\n",
              "      <td>http://www1.folha.uol.com.br/turismo/2017/10/1...</td>\n",
              "      <td>7</td>\n",
              "      <td>38</td>\n",
              "    </tr>\n",
              "    <tr>\n",
              "      <th>609</th>\n",
              "      <td>Museus lembram quatro décadas de opressão sovi...</td>\n",
              "      <td>Nos países que viveram sob a órbita da União S...</td>\n",
              "      <td>2017-05-10</td>\n",
              "      <td>turismo</td>\n",
              "      <td>NaN</td>\n",
              "      <td>http://www1.folha.uol.com.br/turismo/2017/10/1...</td>\n",
              "      <td>10</td>\n",
              "      <td>62</td>\n",
              "    </tr>\n",
              "  </tbody>\n",
              "</table>\n",
              "</div>"
            ],
            "text/plain": [
              "                                                 title  ... title_n_chars\n",
              "381  Latam inaugura voo direto de 15 horas entre Ch...  ...            51\n",
              "414  Turismo de Las Vegas deve se recuperar em mese...  ...            54\n",
              "522  Brasileiro cria app para economizar no passeio...  ...            58\n",
              "602       AirBnB passa a fazer reserva de restaurantes  ...            38\n",
              "609  Museus lembram quatro décadas de opressão sovi...  ...            62\n",
              "\n",
              "[5 rows x 8 columns]"
            ]
          },
          "metadata": {
            "tags": []
          },
          "execution_count": 19
        }
      ]
    },
    {
      "cell_type": "code",
      "metadata": {
        "colab": {
          "base_uri": "https://localhost:8080/",
          "height": 297
        },
        "id": "UxCkvnpvTXN8",
        "outputId": "625a4e0a-a5da-47d6-e960-7ff4448b42f9"
      },
      "source": [
        "turismo.describe()"
      ],
      "execution_count": 20,
      "outputs": [
        {
          "output_type": "execute_result",
          "data": {
            "text/html": [
              "<div>\n",
              "<style scoped>\n",
              "    .dataframe tbody tr th:only-of-type {\n",
              "        vertical-align: middle;\n",
              "    }\n",
              "\n",
              "    .dataframe tbody tr th {\n",
              "        vertical-align: top;\n",
              "    }\n",
              "\n",
              "    .dataframe thead th {\n",
              "        text-align: right;\n",
              "    }\n",
              "</style>\n",
              "<table border=\"1\" class=\"dataframe\">\n",
              "  <thead>\n",
              "    <tr style=\"text-align: right;\">\n",
              "      <th></th>\n",
              "      <th>title_n_words</th>\n",
              "      <th>title_n_chars</th>\n",
              "    </tr>\n",
              "  </thead>\n",
              "  <tbody>\n",
              "    <tr>\n",
              "      <th>count</th>\n",
              "      <td>1903.000000</td>\n",
              "      <td>1903.000000</td>\n",
              "    </tr>\n",
              "    <tr>\n",
              "      <th>mean</th>\n",
              "      <td>10.923805</td>\n",
              "      <td>55.666842</td>\n",
              "    </tr>\n",
              "    <tr>\n",
              "      <th>std</th>\n",
              "      <td>1.812440</td>\n",
              "      <td>6.309523</td>\n",
              "    </tr>\n",
              "    <tr>\n",
              "      <th>min</th>\n",
              "      <td>4.000000</td>\n",
              "      <td>25.000000</td>\n",
              "    </tr>\n",
              "    <tr>\n",
              "      <th>25%</th>\n",
              "      <td>10.000000</td>\n",
              "      <td>52.000000</td>\n",
              "    </tr>\n",
              "    <tr>\n",
              "      <th>50%</th>\n",
              "      <td>11.000000</td>\n",
              "      <td>57.000000</td>\n",
              "    </tr>\n",
              "    <tr>\n",
              "      <th>75%</th>\n",
              "      <td>12.000000</td>\n",
              "      <td>60.000000</td>\n",
              "    </tr>\n",
              "    <tr>\n",
              "      <th>max</th>\n",
              "      <td>20.000000</td>\n",
              "      <td>87.000000</td>\n",
              "    </tr>\n",
              "  </tbody>\n",
              "</table>\n",
              "</div>"
            ],
            "text/plain": [
              "       title_n_words  title_n_chars\n",
              "count    1903.000000    1903.000000\n",
              "mean       10.923805      55.666842\n",
              "std         1.812440       6.309523\n",
              "min         4.000000      25.000000\n",
              "25%        10.000000      52.000000\n",
              "50%        11.000000      57.000000\n",
              "75%        12.000000      60.000000\n",
              "max        20.000000      87.000000"
            ]
          },
          "metadata": {
            "tags": []
          },
          "execution_count": 20
        }
      ]
    },
    {
      "cell_type": "code",
      "metadata": {
        "colab": {
          "base_uri": "https://localhost:8080/",
          "height": 280
        },
        "id": "aBipidB2UgtJ",
        "outputId": "49c1b8c8-c531-479b-9d89-105067038418"
      },
      "source": [
        "turismo.title_n_words.hist();\n",
        "plt.xlabel('número de palavras')\n",
        "plt.ylabel('qtd')\n",
        "plt.grid(b=None)\n",
        "plt.show()"
      ],
      "execution_count": 21,
      "outputs": [
        {
          "output_type": "display_data",
          "data": {
            "image/png": "[encoded data removed]",
            "text/plain": [
              "<Figure size 432x288 with 1 Axes>"
            ]
          },
          "metadata": {
            "tags": [],
            "needs_background": "light"
          }
        }
      ]
    },
    {
      "cell_type": "code",
      "metadata": {
        "colab": {
          "base_uri": "https://localhost:8080/",
          "height": 279
        },
        "id": "TkvBIHd5VMBa",
        "outputId": "c46ac76e-863c-4ea6-9e6a-dc54f83a720e"
      },
      "source": [
        "turismo.title_n_chars.hist();\n",
        "plt.xlabel('número de caracteres')\n",
        "plt.ylabel('qtd')\n",
        "plt.grid(b=None)\n",
        "plt.show()"
      ],
      "execution_count": 22,
      "outputs": [
        {
          "output_type": "display_data",
          "data": {
            "image/png": "[encoded data removed]",
            "text/plain": [
              "<Figure size 432x288 with 1 Axes>"
            ]
          },
          "metadata": {
            "tags": [],
            "needs_background": "light"
          }
        }
      ]
    },
    {
      "cell_type": "markdown",
      "metadata": {
        "id": "TrZiUc26WKfn"
      },
      "source": [
        "# Limpeza dos dados"
      ]
    },
    {
      "cell_type": "code",
      "metadata": {
        "id": "RaB4OxSQWOTK"
      },
      "source": [
        "nlp_pt = spacy.load('pt_core_news_sm')"
      ],
      "execution_count": 47,
      "outputs": []
    },
    {
      "cell_type": "code",
      "metadata": {
        "id": "R2ZveruSWYom"
      },
      "source": [
        "rev = turismo.iloc[0]['title']"
      ],
      "execution_count": 48,
      "outputs": []
    },
    {
      "cell_type": "code",
      "metadata": {
        "colab": {
          "base_uri": "https://localhost:8080/",
          "height": 35
        },
        "id": "fkaRRE1rWhOi",
        "outputId": "b705edef-d8af-4ab6-fab3-0ff90a5757e5"
      },
      "source": [
        "rev"
      ],
      "execution_count": 49,
      "outputs": [
        {
          "output_type": "execute_result",
          "data": {
            "application/vnd.google.colaboratory.intrinsic+json": {
              "type": "string"
            },
            "text/plain": [
              "'Latam inaugura voo direto de 15 horas entre Chile e Austrália'"
            ]
          },
          "metadata": {
            "tags": []
          },
          "execution_count": 49
        }
      ]
    },
    {
      "cell_type": "code",
      "metadata": {
        "id": "_UUCudaAWmMA"
      },
      "source": [
        "rev = limpa_texto(rev)"
      ],
      "execution_count": 50,
      "outputs": []
    },
    {
      "cell_type": "code",
      "metadata": {
        "colab": {
          "base_uri": "https://localhost:8080/",
          "height": 35
        },
        "id": "Ds9IyqNOWrBm",
        "outputId": "0ec5e8af-7328-4088-d6a5-138de7b42a85"
      },
      "source": [
        "rev"
      ],
      "execution_count": 51,
      "outputs": [
        {
          "output_type": "execute_result",
          "data": {
            "application/vnd.google.colaboratory.intrinsic+json": {
              "type": "string"
            },
            "text/plain": [
              "'latam inaugura voo direto de 15 horas entre chile e austrália'"
            ]
          },
          "metadata": {
            "tags": []
          },
          "execution_count": 51
        }
      ]
    },
    {
      "cell_type": "code",
      "metadata": {
        "id": "OfmSTf0qW_s3"
      },
      "source": [
        "rev2 = turismo.iloc[5]['title']"
      ],
      "execution_count": 52,
      "outputs": []
    },
    {
      "cell_type": "code",
      "metadata": {
        "colab": {
          "base_uri": "https://localhost:8080/",
          "height": 35
        },
        "id": "EUcSNUeBXIh2",
        "outputId": "13b68621-cfbe-41b5-a17f-4f17af9ba520"
      },
      "source": [
        "rev2"
      ],
      "execution_count": 53,
      "outputs": [
        {
          "output_type": "execute_result",
          "data": {
            "application/vnd.google.colaboratory.intrinsic+json": {
              "type": "string"
            },
            "text/plain": [
              "\"'Viagem ao Japão é aula de cultura e tradição', diz ator Jayme Matarazzo\""
            ]
          },
          "metadata": {
            "tags": []
          },
          "execution_count": 53
        }
      ]
    },
    {
      "cell_type": "code",
      "metadata": {
        "colab": {
          "base_uri": "https://localhost:8080/",
          "height": 35
        },
        "id": "6-w7cHVyXTgU",
        "outputId": "b08f4e38-4bb8-4303-b769-7baf6705926f"
      },
      "source": [
        "limpa_texto(rev2)"
      ],
      "execution_count": 54,
      "outputs": [
        {
          "output_type": "execute_result",
          "data": {
            "application/vnd.google.colaboratory.intrinsic+json": {
              "type": "string"
            },
            "text/plain": [
              "'viagem ao japão é aula de cultura e tradição diz ator jayme matarazzo'"
            ]
          },
          "metadata": {
            "tags": []
          },
          "execution_count": 54
        }
      ]
    },
    {
      "cell_type": "code",
      "metadata": {
        "id": "sG_xDrCrYI7k"
      },
      "source": [
        "rev = nlp_pt(rev)"
      ],
      "execution_count": 55,
      "outputs": []
    },
    {
      "cell_type": "code",
      "metadata": {
        "id": "943HII9SYQE2"
      },
      "source": [
        "def exibe_token(texto):\n",
        "  col_names = ['ALPHA', 'PUNCT', 'LIKE NUM', 'POS']\n",
        "  formatted_text = '{:>16}' * (len(col_names) + 1)\n",
        "  print('\\n', formatted_text.format('INPUT WORD', *col_names), '\\n', '='*130)\n",
        "\n",
        "  for token in texto:\n",
        "    output = [token.text, token.is_alpha, token.is_punct, token.like_num, token.pos_]\n",
        "    print(formatted_text.format(*output))"
      ],
      "execution_count": 56,
      "outputs": []
    },
    {
      "cell_type": "code",
      "metadata": {
        "colab": {
          "base_uri": "https://localhost:8080/"
        },
        "id": "MKxhtUIPaoa7",
        "outputId": "b2ab579a-ad3d-4b55-becb-71dd39efad8c"
      },
      "source": [
        "exibe_token(rev)"
      ],
      "execution_count": 57,
      "outputs": [
        {
          "output_type": "stream",
          "text": [
            "\n",
            "       INPUT WORD           ALPHA           PUNCT        LIKE NUM             POS \n",
            " ==================================================================================================================================\n",
            "           latam               1               0               0            VERB\n",
            "        inaugura               1               0               0            VERB\n",
            "             voo               1               0               0            VERB\n",
            "          direto               1               0               0             ADV\n",
            "              de               1               0               0             ADP\n",
            "              15               0               0               1             NUM\n",
            "           horas               1               0               0            NOUN\n",
            "           entre               1               0               0             ADP\n",
            "           chile               1               0               0           PROPN\n",
            "               e               1               0               0           CCONJ\n",
            "       austrália               1               0               0           PROPN\n"
          ],
          "name": "stdout"
        }
      ]
    },
    {
      "cell_type": "code",
      "metadata": {
        "id": "7JX4d32Vb_ya"
      },
      "source": [
        "from spacy import displacy"
      ],
      "execution_count": 58,
      "outputs": []
    },
    {
      "cell_type": "code",
      "metadata": {
        "colab": {
          "base_uri": "https://localhost:8080/",
          "height": 441
        },
        "id": "aSHDnuMbcLYq",
        "outputId": "1bb0cf21-32b0-4269-917b-8b3675661562"
      },
      "source": [
        "displacy.render(rev, style='dep', jupyter=True)"
      ],
      "execution_count": 59,
      "outputs": [
        {
          "output_type": "display_data",
          "data": {
            "text/html": [
              "<span class=\"tex2jax_ignore\"><svg xmlns=\"http://www.w3.org/2000/svg\" xmlns:xlink=\"http://www.w3.org/1999/xlink\" xml:lang=\"pt\" id=\"e92f77c3f99f4ab7b2b33d01d5fb4358-0\" class=\"displacy\" width=\"1975\" height=\"399.5\" direction=\"ltr\" style=\"max-width: none; height: 399.5px; color: #000000; background: #ffffff; font-family: Arial; direction: ltr\">\n",
              "<text class=\"displacy-token\" fill=\"currentColor\" text-anchor=\"middle\" y=\"309.5\">\n",
              "    <tspan class=\"displacy-word\" fill=\"currentColor\" x=\"50\">latam</tspan>\n",
              "    <tspan class=\"displacy-tag\" dy=\"2em\" fill=\"currentColor\" x=\"50\">VERB</tspan>\n",
              "</text>\n",
              "\n",
              "<text class=\"displacy-token\" fill=\"currentColor\" text-anchor=\"middle\" y=\"309.5\">\n",
              "    <tspan class=\"displacy-word\" fill=\"currentColor\" x=\"225\">inaugura</tspan>\n",
              "    <tspan class=\"displacy-tag\" dy=\"2em\" fill=\"currentColor\" x=\"225\">VERB</tspan>\n",
              "</text>\n",
              "\n",
              "<text class=\"displacy-token\" fill=\"currentColor\" text-anchor=\"middle\" y=\"309.5\">\n",
              "    <tspan class=\"displacy-word\" fill=\"currentColor\" x=\"400\">voo</tspan>\n",
              "    <tspan class=\"displacy-tag\" dy=\"2em\" fill=\"currentColor\" x=\"400\">VERB</tspan>\n",
              "</text>\n",
              "\n",
              "<text class=\"displacy-token\" fill=\"currentColor\" text-anchor=\"middle\" y=\"309.5\">\n",
              "    <tspan class=\"displacy-word\" fill=\"currentColor\" x=\"575\">direto</tspan>\n",
              "    <tspan class=\"displacy-tag\" dy=\"2em\" fill=\"currentColor\" x=\"575\">ADV</tspan>\n",
              "</text>\n",
              "\n",
              "<text class=\"displacy-token\" fill=\"currentColor\" text-anchor=\"middle\" y=\"309.5\">\n",
              "    <tspan class=\"displacy-word\" fill=\"currentColor\" x=\"750\">de</tspan>\n",
              "    <tspan class=\"displacy-tag\" dy=\"2em\" fill=\"currentColor\" x=\"750\">ADP</tspan>\n",
              "</text>\n",
              "\n",
              "<text class=\"displacy-token\" fill=\"currentColor\" text-anchor=\"middle\" y=\"309.5\">\n",
              "    <tspan class=\"displacy-word\" fill=\"currentColor\" x=\"925\">15</tspan>\n",
              "    <tspan class=\"displacy-tag\" dy=\"2em\" fill=\"currentColor\" x=\"925\">NUM</tspan>\n",
              "</text>\n",
              "\n",
              "<text class=\"displacy-token\" fill=\"currentColor\" text-anchor=\"middle\" y=\"309.5\">\n",
              "    <tspan class=\"displacy-word\" fill=\"currentColor\" x=\"1100\">horas</tspan>\n",
              "    <tspan class=\"displacy-tag\" dy=\"2em\" fill=\"currentColor\" x=\"1100\">NOUN</tspan>\n",
              "</text>\n",
              "\n",
              "<text class=\"displacy-token\" fill=\"currentColor\" text-anchor=\"middle\" y=\"309.5\">\n",
              "    <tspan class=\"displacy-word\" fill=\"currentColor\" x=\"1275\">entre</tspan>\n",
              "    <tspan class=\"displacy-tag\" dy=\"2em\" fill=\"currentColor\" x=\"1275\">ADP</tspan>\n",
              "</text>\n",
              "\n",
              "<text class=\"displacy-token\" fill=\"currentColor\" text-anchor=\"middle\" y=\"309.5\">\n",
              "    <tspan class=\"displacy-word\" fill=\"currentColor\" x=\"1450\">chile</tspan>\n",
              "    <tspan class=\"displacy-tag\" dy=\"2em\" fill=\"currentColor\" x=\"1450\">PROPN</tspan>\n",
              "</text>\n",
              "\n",
              "<text class=\"displacy-token\" fill=\"currentColor\" text-anchor=\"middle\" y=\"309.5\">\n",
              "    <tspan class=\"displacy-word\" fill=\"currentColor\" x=\"1625\">e</tspan>\n",
              "    <tspan class=\"displacy-tag\" dy=\"2em\" fill=\"currentColor\" x=\"1625\">CCONJ</tspan>\n",
              "</text>\n",
              "\n",
              "<text class=\"displacy-token\" fill=\"currentColor\" text-anchor=\"middle\" y=\"309.5\">\n",
              "    <tspan class=\"displacy-word\" fill=\"currentColor\" x=\"1800\">austrália</tspan>\n",
              "    <tspan class=\"displacy-tag\" dy=\"2em\" fill=\"currentColor\" x=\"1800\">PROPN</tspan>\n",
              "</text>\n",
              "\n",
              "<g class=\"displacy-arrow\">\n",
              "    <path class=\"displacy-arc\" id=\"arrow-e92f77c3f99f4ab7b2b33d01d5fb4358-0-0\" stroke-width=\"2px\" d=\"M70,264.5 C70,177.0 215.0,177.0 215.0,264.5\" fill=\"none\" stroke=\"currentColor\"/>\n",
              "    <text dy=\"1.25em\" style=\"font-size: 0.8em; letter-spacing: 1px\">\n",
              "        <textPath xlink:href=\"#arrow-e92f77c3f99f4ab7b2b33d01d5fb4358-0-0\" class=\"displacy-label\" startOffset=\"50%\" side=\"left\" fill=\"currentColor\" text-anchor=\"middle\">nsubj</textPath>\n",
              "    </text>\n",
              "    <path class=\"displacy-arrowhead\" d=\"M70,266.5 L62,254.5 78,254.5\" fill=\"currentColor\"/>\n",
              "</g>\n",
              "\n",
              "<g class=\"displacy-arrow\">\n",
              "    <path class=\"displacy-arc\" id=\"arrow-e92f77c3f99f4ab7b2b33d01d5fb4358-0-1\" stroke-width=\"2px\" d=\"M420,264.5 C420,177.0 565.0,177.0 565.0,264.5\" fill=\"none\" stroke=\"currentColor\"/>\n",
              "    <text dy=\"1.25em\" style=\"font-size: 0.8em; letter-spacing: 1px\">\n",
              "        <textPath xlink:href=\"#arrow-e92f77c3f99f4ab7b2b33d01d5fb4358-0-1\" class=\"displacy-label\" startOffset=\"50%\" side=\"left\" fill=\"currentColor\" text-anchor=\"middle\">det</textPath>\n",
              "    </text>\n",
              "    <path class=\"displacy-arrowhead\" d=\"M420,266.5 L412,254.5 428,254.5\" fill=\"currentColor\"/>\n",
              "</g>\n",
              "\n",
              "<g class=\"displacy-arrow\">\n",
              "    <path class=\"displacy-arc\" id=\"arrow-e92f77c3f99f4ab7b2b33d01d5fb4358-0-2\" stroke-width=\"2px\" d=\"M770,264.5 C770,89.5 1095.0,89.5 1095.0,264.5\" fill=\"none\" stroke=\"currentColor\"/>\n",
              "    <text dy=\"1.25em\" style=\"font-size: 0.8em; letter-spacing: 1px\">\n",
              "        <textPath xlink:href=\"#arrow-e92f77c3f99f4ab7b2b33d01d5fb4358-0-2\" class=\"displacy-label\" startOffset=\"50%\" side=\"left\" fill=\"currentColor\" text-anchor=\"middle\">case</textPath>\n",
              "    </text>\n",
              "    <path class=\"displacy-arrowhead\" d=\"M770,266.5 L762,254.5 778,254.5\" fill=\"currentColor\"/>\n",
              "</g>\n",
              "\n",
              "<g class=\"displacy-arrow\">\n",
              "    <path class=\"displacy-arc\" id=\"arrow-e92f77c3f99f4ab7b2b33d01d5fb4358-0-3\" stroke-width=\"2px\" d=\"M945,264.5 C945,177.0 1090.0,177.0 1090.0,264.5\" fill=\"none\" stroke=\"currentColor\"/>\n",
              "    <text dy=\"1.25em\" style=\"font-size: 0.8em; letter-spacing: 1px\">\n",
              "        <textPath xlink:href=\"#arrow-e92f77c3f99f4ab7b2b33d01d5fb4358-0-3\" class=\"displacy-label\" startOffset=\"50%\" side=\"left\" fill=\"currentColor\" text-anchor=\"middle\">nummod</textPath>\n",
              "    </text>\n",
              "    <path class=\"displacy-arrowhead\" d=\"M945,266.5 L937,254.5 953,254.5\" fill=\"currentColor\"/>\n",
              "</g>\n",
              "\n",
              "<g class=\"displacy-arrow\">\n",
              "    <path class=\"displacy-arc\" id=\"arrow-e92f77c3f99f4ab7b2b33d01d5fb4358-0-4\" stroke-width=\"2px\" d=\"M595,264.5 C595,2.0 1100.0,2.0 1100.0,264.5\" fill=\"none\" stroke=\"currentColor\"/>\n",
              "    <text dy=\"1.25em\" style=\"font-size: 0.8em; letter-spacing: 1px\">\n",
              "        <textPath xlink:href=\"#arrow-e92f77c3f99f4ab7b2b33d01d5fb4358-0-4\" class=\"displacy-label\" startOffset=\"50%\" side=\"left\" fill=\"currentColor\" text-anchor=\"middle\">nmod</textPath>\n",
              "    </text>\n",
              "    <path class=\"displacy-arrowhead\" d=\"M1100.0,266.5 L1108.0,254.5 1092.0,254.5\" fill=\"currentColor\"/>\n",
              "</g>\n",
              "\n",
              "<g class=\"displacy-arrow\">\n",
              "    <path class=\"displacy-arc\" id=\"arrow-e92f77c3f99f4ab7b2b33d01d5fb4358-0-5\" stroke-width=\"2px\" d=\"M1295,264.5 C1295,177.0 1440.0,177.0 1440.0,264.5\" fill=\"none\" stroke=\"currentColor\"/>\n",
              "    <text dy=\"1.25em\" style=\"font-size: 0.8em; letter-spacing: 1px\">\n",
              "        <textPath xlink:href=\"#arrow-e92f77c3f99f4ab7b2b33d01d5fb4358-0-5\" class=\"displacy-label\" startOffset=\"50%\" side=\"left\" fill=\"currentColor\" text-anchor=\"middle\">case</textPath>\n",
              "    </text>\n",
              "    <path class=\"displacy-arrowhead\" d=\"M1295,266.5 L1287,254.5 1303,254.5\" fill=\"currentColor\"/>\n",
              "</g>\n",
              "\n",
              "<g class=\"displacy-arrow\">\n",
              "    <path class=\"displacy-arc\" id=\"arrow-e92f77c3f99f4ab7b2b33d01d5fb4358-0-6\" stroke-width=\"2px\" d=\"M1120,264.5 C1120,89.5 1445.0,89.5 1445.0,264.5\" fill=\"none\" stroke=\"currentColor\"/>\n",
              "    <text dy=\"1.25em\" style=\"font-size: 0.8em; letter-spacing: 1px\">\n",
              "        <textPath xlink:href=\"#arrow-e92f77c3f99f4ab7b2b33d01d5fb4358-0-6\" class=\"displacy-label\" startOffset=\"50%\" side=\"left\" fill=\"currentColor\" text-anchor=\"middle\">nmod</textPath>\n",
              "    </text>\n",
              "    <path class=\"displacy-arrowhead\" d=\"M1445.0,266.5 L1453.0,254.5 1437.0,254.5\" fill=\"currentColor\"/>\n",
              "</g>\n",
              "\n",
              "<g class=\"displacy-arrow\">\n",
              "    <path class=\"displacy-arc\" id=\"arrow-e92f77c3f99f4ab7b2b33d01d5fb4358-0-7\" stroke-width=\"2px\" d=\"M1645,264.5 C1645,177.0 1790.0,177.0 1790.0,264.5\" fill=\"none\" stroke=\"currentColor\"/>\n",
              "    <text dy=\"1.25em\" style=\"font-size: 0.8em; letter-spacing: 1px\">\n",
              "        <textPath xlink:href=\"#arrow-e92f77c3f99f4ab7b2b33d01d5fb4358-0-7\" class=\"displacy-label\" startOffset=\"50%\" side=\"left\" fill=\"currentColor\" text-anchor=\"middle\">cc</textPath>\n",
              "    </text>\n",
              "    <path class=\"displacy-arrowhead\" d=\"M1645,266.5 L1637,254.5 1653,254.5\" fill=\"currentColor\"/>\n",
              "</g>\n",
              "\n",
              "<g class=\"displacy-arrow\">\n",
              "    <path class=\"displacy-arc\" id=\"arrow-e92f77c3f99f4ab7b2b33d01d5fb4358-0-8\" stroke-width=\"2px\" d=\"M1470,264.5 C1470,89.5 1795.0,89.5 1795.0,264.5\" fill=\"none\" stroke=\"currentColor\"/>\n",
              "    <text dy=\"1.25em\" style=\"font-size: 0.8em; letter-spacing: 1px\">\n",
              "        <textPath xlink:href=\"#arrow-e92f77c3f99f4ab7b2b33d01d5fb4358-0-8\" class=\"displacy-label\" startOffset=\"50%\" side=\"left\" fill=\"currentColor\" text-anchor=\"middle\">conj</textPath>\n",
              "    </text>\n",
              "    <path class=\"displacy-arrowhead\" d=\"M1795.0,266.5 L1803.0,254.5 1787.0,254.5\" fill=\"currentColor\"/>\n",
              "</g>\n",
              "</svg></span>"
            ],
            "text/plain": [
              "<IPython.core.display.HTML object>"
            ]
          },
          "metadata": {
            "tags": []
          }
        }
      ]
    },
    {
      "cell_type": "code",
      "metadata": {
        "id": "RkL2ujsUc6OP"
      },
      "source": [
        "rev2 = nlp_pt(rev2)"
      ],
      "execution_count": 60,
      "outputs": []
    },
    {
      "cell_type": "code",
      "metadata": {
        "colab": {
          "base_uri": "https://localhost:8080/"
        },
        "id": "D3crcLCzdCSA",
        "outputId": "e9bedd4a-16f8-4799-f03b-f410de965578"
      },
      "source": [
        "exibe_token(rev2)"
      ],
      "execution_count": 61,
      "outputs": [
        {
          "output_type": "stream",
          "text": [
            "\n",
            "       INPUT WORD           ALPHA           PUNCT        LIKE NUM             POS \n",
            " ==================================================================================================================================\n",
            "               '               0               1               0           PUNCT\n",
            "          Viagem               1               0               0            NOUN\n",
            "               a               1               0               0             ADP\n",
            "               o               1               0               0             DET\n",
            "           Japão               1               0               0           PROPN\n",
            "               é               1               0               0            VERB\n",
            "            aula               1               0               0            NOUN\n",
            "              de               1               0               0             ADP\n",
            "         cultura               1               0               0            NOUN\n",
            "               e               1               0               0           CCONJ\n",
            "        tradição               1               0               0            NOUN\n",
            "               '               0               1               0           PUNCT\n",
            "               ,               0               1               0           PUNCT\n",
            "             diz               1               0               0            VERB\n",
            "            ator               1               0               0            NOUN\n",
            "           Jayme               1               0               0           PROPN\n",
            "       Matarazzo               1               0               0           PROPN\n"
          ],
          "name": "stdout"
        }
      ]
    },
    {
      "cell_type": "code",
      "metadata": {
        "id": "N5UNXhDSeIJO"
      },
      "source": [
        "turismo['title_clean'] = turismo['title'].apply(lambda x : limpa_texto(x))"
      ],
      "execution_count": 62,
      "outputs": []
    },
    {
      "cell_type": "code",
      "metadata": {
        "colab": {
          "base_uri": "https://localhost:8080/",
          "height": 632
        },
        "id": "skGaTh7leJ_M",
        "outputId": "262718e7-e8a1-47b0-d76e-76014e3808f4"
      },
      "source": [
        "turismo.head()"
      ],
      "execution_count": 63,
      "outputs": [
        {
          "output_type": "execute_result",
          "data": {
            "text/html": [
              "<div>\n",
              "<style scoped>\n",
              "    .dataframe tbody tr th:only-of-type {\n",
              "        vertical-align: middle;\n",
              "    }\n",
              "\n",
              "    .dataframe tbody tr th {\n",
              "        vertical-align: top;\n",
              "    }\n",
              "\n",
              "    .dataframe thead th {\n",
              "        text-align: right;\n",
              "    }\n",
              "</style>\n",
              "<table border=\"1\" class=\"dataframe\">\n",
              "  <thead>\n",
              "    <tr style=\"text-align: right;\">\n",
              "      <th></th>\n",
              "      <th>title</th>\n",
              "      <th>text</th>\n",
              "      <th>date</th>\n",
              "      <th>category</th>\n",
              "      <th>subcategory</th>\n",
              "      <th>link</th>\n",
              "      <th>title_n_words</th>\n",
              "      <th>title_n_chars</th>\n",
              "      <th>title_clean</th>\n",
              "      <th>title_clean_no_stop</th>\n",
              "      <th>title_lemmas</th>\n",
              "    </tr>\n",
              "  </thead>\n",
              "  <tbody>\n",
              "    <tr>\n",
              "      <th>381</th>\n",
              "      <td>Latam inaugura voo direto de 15 horas entre Ch...</td>\n",
              "      <td>Animem-se os que pretendem cruzar o Pacífico e...</td>\n",
              "      <td>2017-06-10</td>\n",
              "      <td>turismo</td>\n",
              "      <td>NaN</td>\n",
              "      <td>http://www1.folha.uol.com.br/turismo/2017/10/1...</td>\n",
              "      <td>11</td>\n",
              "      <td>51</td>\n",
              "      <td>latam inaugura voo direto de 15 horas entre ch...</td>\n",
              "      <td>latam inaugura voo direto 15 horas chile e aus...</td>\n",
              "      <td>latir inaugurar voar direto 15 horar chile e a...</td>\n",
              "    </tr>\n",
              "    <tr>\n",
              "      <th>414</th>\n",
              "      <td>Turismo de Las Vegas deve se recuperar em mese...</td>\n",
              "      <td>O massacre em Las Vegas afetará o turismo da c...</td>\n",
              "      <td>2017-06-10</td>\n",
              "      <td>turismo</td>\n",
              "      <td>NaN</td>\n",
              "      <td>http://www1.folha.uol.com.br/turismo/2017/10/1...</td>\n",
              "      <td>11</td>\n",
              "      <td>54</td>\n",
              "      <td>turismo de las vegas deve se recuperar em mese...</td>\n",
              "      <td>turismo las vegas recuperar analistas</td>\n",
              "      <td>turismo o vegas recuperar analista</td>\n",
              "    </tr>\n",
              "    <tr>\n",
              "      <th>522</th>\n",
              "      <td>Brasileiro cria app para economizar no passeio...</td>\n",
              "      <td>Com cerca de 50 mil visitantes por dia, Veneza...</td>\n",
              "      <td>2017-05-10</td>\n",
              "      <td>turismo</td>\n",
              "      <td>NaN</td>\n",
              "      <td>http://www1.folha.uol.com.br/turismo/2017/10/1...</td>\n",
              "      <td>11</td>\n",
              "      <td>58</td>\n",
              "      <td>brasileiro cria app para economizar no passeio...</td>\n",
              "      <td>brasileiro cria app economizar passeio gôndola...</td>\n",
              "      <td>brasileiro criar app economizar passear gôndol...</td>\n",
              "    </tr>\n",
              "    <tr>\n",
              "      <th>602</th>\n",
              "      <td>AirBnB passa a fazer reserva de restaurantes</td>\n",
              "      <td>A plataforma de hospedagem Airbnb anunciou que...</td>\n",
              "      <td>2017-05-10</td>\n",
              "      <td>turismo</td>\n",
              "      <td>NaN</td>\n",
              "      <td>http://www1.folha.uol.com.br/turismo/2017/10/1...</td>\n",
              "      <td>7</td>\n",
              "      <td>38</td>\n",
              "      <td>airbnb passa a fazer reserva de restaurantes</td>\n",
              "      <td>airbnb passa a reserva restaurantes</td>\n",
              "      <td>airbnb passar o reservar restaurante</td>\n",
              "    </tr>\n",
              "    <tr>\n",
              "      <th>609</th>\n",
              "      <td>Museus lembram quatro décadas de opressão sovi...</td>\n",
              "      <td>Nos países que viveram sob a órbita da União S...</td>\n",
              "      <td>2017-05-10</td>\n",
              "      <td>turismo</td>\n",
              "      <td>NaN</td>\n",
              "      <td>http://www1.folha.uol.com.br/turismo/2017/10/1...</td>\n",
              "      <td>10</td>\n",
              "      <td>62</td>\n",
              "      <td>museus lembram quatro décadas de opressão sovi...</td>\n",
              "      <td>museus lembram décadas opressão soviética países</td>\n",
              "      <td>museu lembrar década opressão soviético país</td>\n",
              "    </tr>\n",
              "  </tbody>\n",
              "</table>\n",
              "</div>"
            ],
            "text/plain": [
              "                                                 title  ...                                       title_lemmas\n",
              "381  Latam inaugura voo direto de 15 horas entre Ch...  ...  latir inaugurar voar direto 15 horar chile e a...\n",
              "414  Turismo de Las Vegas deve se recuperar em mese...  ...                 turismo o vegas recuperar analista\n",
              "522  Brasileiro cria app para economizar no passeio...  ...  brasileiro criar app economizar passear gôndol...\n",
              "602       AirBnB passa a fazer reserva de restaurantes  ...               airbnb passar o reservar restaurante\n",
              "609  Museus lembram quatro décadas de opressão sovi...  ...       museu lembrar década opressão soviético país\n",
              "\n",
              "[5 rows x 11 columns]"
            ]
          },
          "metadata": {
            "tags": []
          },
          "execution_count": 63
        }
      ]
    },
    {
      "cell_type": "code",
      "metadata": {
        "id": "5flsHAUsflaQ"
      },
      "source": [
        "turismo['title_clean_no_stop'] = turismo['title_clean'].apply(lambda x : remove_stop(x))"
      ],
      "execution_count": 64,
      "outputs": []
    },
    {
      "cell_type": "code",
      "metadata": {
        "colab": {
          "base_uri": "https://localhost:8080/",
          "height": 35
        },
        "id": "y8T562IhgKSY",
        "outputId": "6545dd7e-2af5-457a-f817-2bf3c8a66559"
      },
      "source": [
        "turismo.iloc[0]['title_clean']"
      ],
      "execution_count": 65,
      "outputs": [
        {
          "output_type": "execute_result",
          "data": {
            "application/vnd.google.colaboratory.intrinsic+json": {
              "type": "string"
            },
            "text/plain": [
              "'latam inaugura voo direto de 15 horas entre chile e austrália'"
            ]
          },
          "metadata": {
            "tags": []
          },
          "execution_count": 65
        }
      ]
    },
    {
      "cell_type": "code",
      "metadata": {
        "colab": {
          "base_uri": "https://localhost:8080/",
          "height": 35
        },
        "id": "gBnMmA5fgUBO",
        "outputId": "ca450b53-2a07-438e-80f5-bd82793af578"
      },
      "source": [
        "turismo.iloc[0]['title_clean_no_stop']"
      ],
      "execution_count": 66,
      "outputs": [
        {
          "output_type": "execute_result",
          "data": {
            "application/vnd.google.colaboratory.intrinsic+json": {
              "type": "string"
            },
            "text/plain": [
              "'latam inaugura voo direto 15 horas chile e austrália'"
            ]
          },
          "metadata": {
            "tags": []
          },
          "execution_count": 66
        }
      ]
    },
    {
      "cell_type": "code",
      "metadata": {
        "id": "LeqfboCkg7Kd"
      },
      "source": [
        "# Lematização\n",
        "\n",
        "turismo['title_lemmas'] = turismo['title_clean_no_stop'].apply(lambda x : limpa_texto2(x))"
      ],
      "execution_count": 67,
      "outputs": []
    },
    {
      "cell_type": "code",
      "metadata": {
        "colab": {
          "base_uri": "https://localhost:8080/",
          "height": 35
        },
        "id": "J0owPMx1hj68",
        "outputId": "2d4f5375-8ff3-410e-cf1a-3ddcb1a5b3b0"
      },
      "source": [
        "turismo.iloc[0]['title_lemmas']"
      ],
      "execution_count": 68,
      "outputs": [
        {
          "output_type": "execute_result",
          "data": {
            "application/vnd.google.colaboratory.intrinsic+json": {
              "type": "string"
            },
            "text/plain": [
              "'latir inaugurar voar direto 15 horar chile e austrália'"
            ]
          },
          "metadata": {
            "tags": []
          },
          "execution_count": 68
        }
      ]
    },
    {
      "cell_type": "code",
      "metadata": {
        "colab": {
          "base_uri": "https://localhost:8080/",
          "height": 35
        },
        "id": "z0aAmGf9hucj",
        "outputId": "eccdd3a1-3d58-4ba3-97cf-8736959963c3"
      },
      "source": [
        "turismo.iloc[5]['title_lemmas']"
      ],
      "execution_count": 69,
      "outputs": [
        {
          "output_type": "execute_result",
          "data": {
            "application/vnd.google.colaboratory.intrinsic+json": {
              "type": "string"
            },
            "text/plain": [
              "'viagem o o japão aula cultura e tradição ator jayme matarazzo'"
            ]
          },
          "metadata": {
            "tags": []
          },
          "execution_count": 69
        }
      ]
    },
    {
      "cell_type": "code",
      "metadata": {
        "id": "1VWGt1BTicoT"
      },
      "source": [
        "# N-grams"
      ],
      "execution_count": 70,
      "outputs": []
    },
    {
      "cell_type": "code",
      "metadata": {
        "id": "EcGLaR-97pzc"
      },
      "source": [
        "titulos = \" \".join(turismo['title_lemmas'])"
      ],
      "execution_count": 73,
      "outputs": []
    },
    {
      "cell_type": "code",
      "metadata": {
        "id": "su9XwSrj8CWp"
      },
      "source": [
        "token = word_tokenize(titulos)"
      ],
      "execution_count": 74,
      "outputs": []
    },
    {
      "cell_type": "code",
      "metadata": {
        "id": "copLPceX8HmY"
      },
      "source": [
        "bigrams = ngrams(token,2 )"
      ],
      "execution_count": 75,
      "outputs": []
    },
    {
      "cell_type": "code",
      "metadata": {
        "colab": {
          "base_uri": "https://localhost:8080/"
        },
        "id": "nib6msPF8QHi",
        "outputId": "b1c5ee4d-929b-496e-b8be-5f53d4de1bf2"
      },
      "source": [
        "print(Counter(bigrams).most_common(10))"
      ],
      "execution_count": 76,
      "outputs": [
        {
          "output_type": "stream",
          "text": [
            "[(('o', 'o'), 91), (('fotógrafo', 'registrar'), 39), (('atrair', 'turista'), 25), (('fotógrafo', 'clicar'), 23), (('álbum', 'viagem'), 22), (('companhia', 'aéreo'), 20), (('turista', 'o'), 20), (('o', 'turismo'), 20), (('viagem', 'o'), 18), (('e', 'o'), 18)]\n"
          ],
          "name": "stdout"
        }
      ]
    },
    {
      "cell_type": "code",
      "metadata": {
        "id": "xKgLXmTK8q4C"
      },
      "source": [
        "trigrams = ngrams(token,3 )"
      ],
      "execution_count": 77,
      "outputs": []
    },
    {
      "cell_type": "code",
      "metadata": {
        "colab": {
          "base_uri": "https://localhost:8080/"
        },
        "id": "6NbHNJ-I81cu",
        "outputId": "a01f3bfd-6069-408a-9f4d-e30f56ecc635"
      },
      "source": [
        "print(Counter(trigrams).most_common(10))"
      ],
      "execution_count": 78,
      "outputs": [
        {
          "output_type": "stream",
          "text": [
            "[(('voltar', 'o', 'o'), 8), (('atrair', 'turista', 'o'), 7), (('fotógrafo', 'registrar', 'o'), 7), (('museu', 'dedicar', 'o'), 6), (('o', 'o', 'redor'), 6), (('o', 'o', 'mundo'), 6), (('o', 'o', 'público'), 6), (('viagem', 'o', 'o'), 5), (('fotógrafo', 'registrar', 'paisagem'), 5), (('o', 'redor', 'mundo'), 5)]\n"
          ],
          "name": "stdout"
        }
      ]
    },
    {
      "cell_type": "code",
      "metadata": {
        "id": "_ldyH0Eb9X9u"
      },
      "source": [
        "vectorizer = CountVectorizer(min_df=10, max_df= 0.9, stop_words=STOP_WORDS, lowercase=True)"
      ],
      "execution_count": 79,
      "outputs": []
    },
    {
      "cell_type": "code",
      "metadata": {
        "id": "I9b7xrwJ9v_D"
      },
      "source": [
        "data_vectorized = vectorizer.fit_transform(turismo['title_lemmas'])"
      ],
      "execution_count": 81,
      "outputs": []
    },
    {
      "cell_type": "code",
      "metadata": {
        "id": "belJHxnc-WOz"
      },
      "source": [
        "NUM_TOPICS = 2"
      ],
      "execution_count": 82,
      "outputs": []
    },
    {
      "cell_type": "code",
      "metadata": {
        "id": "x9R84I_K-eey"
      },
      "source": [
        "lda = LatentDirichletAllocation(n_components=NUM_TOPICS, max_iter=30, learning_method='online', verbose=True)"
      ],
      "execution_count": 84,
      "outputs": []
    },
    {
      "cell_type": "code",
      "metadata": {
        "colab": {
          "base_uri": "https://localhost:8080/"
        },
        "id": "92EQoSZQ_J_n",
        "outputId": "7b60d1f3-83e3-4743-d168-d360d41dcd7b"
      },
      "source": [
        "data_lda = lda.fit_transform(data_vectorized)"
      ],
      "execution_count": 85,
      "outputs": [
        {
          "output_type": "stream",
          "text": [
            "iteration: 1 of max_iter: 30\n",
            "iteration: 2 of max_iter: 30\n",
            "iteration: 3 of max_iter: 30\n",
            "iteration: 4 of max_iter: 30\n",
            "iteration: 5 of max_iter: 30\n",
            "iteration: 6 of max_iter: 30\n",
            "iteration: 7 of max_iter: 30\n",
            "iteration: 8 of max_iter: 30\n",
            "iteration: 9 of max_iter: 30\n",
            "iteration: 10 of max_iter: 30\n",
            "iteration: 11 of max_iter: 30\n",
            "iteration: 12 of max_iter: 30\n",
            "iteration: 13 of max_iter: 30\n",
            "iteration: 14 of max_iter: 30\n",
            "iteration: 15 of max_iter: 30\n",
            "iteration: 16 of max_iter: 30\n",
            "iteration: 17 of max_iter: 30\n",
            "iteration: 18 of max_iter: 30\n",
            "iteration: 19 of max_iter: 30\n",
            "iteration: 20 of max_iter: 30\n",
            "iteration: 21 of max_iter: 30\n",
            "iteration: 22 of max_iter: 30\n",
            "iteration: 23 of max_iter: 30\n",
            "iteration: 24 of max_iter: 30\n",
            "iteration: 25 of max_iter: 30\n",
            "iteration: 26 of max_iter: 30\n",
            "iteration: 27 of max_iter: 30\n",
            "iteration: 28 of max_iter: 30\n",
            "iteration: 29 of max_iter: 30\n",
            "iteration: 30 of max_iter: 30\n"
          ],
          "name": "stdout"
        }
      ]
    },
    {
      "cell_type": "code",
      "metadata": {
        "id": "4fedFBIc_b3-"
      },
      "source": [
        "import pyLDAvis.sklearn"
      ],
      "execution_count": 86,
      "outputs": []
    },
    {
      "cell_type": "code",
      "metadata": {
        "id": "nCxNb8Sb_glW"
      },
      "source": [
        "pyLDAvis.enable_notebook()"
      ],
      "execution_count": 87,
      "outputs": []
    },
    {
      "cell_type": "code",
      "metadata": {
        "id": "foVMDIwU_0Fp"
      },
      "source": [
        "dash = pyLDAvis.sklearn.prepare(lda, data_vectorized, vectorizer,mds='tsne')"
      ],
      "execution_count": 88,
      "outputs": []
    },
    {
      "cell_type": "code",
      "metadata": {
        "colab": {
          "base_uri": "https://localhost:8080/",
          "height": 861
        },
        "id": "5YGamjCHAO5u",
        "outputId": "1f189b89-a56d-4585-df7a-7fd1305efc56"
      },
      "source": [
        "dash"
      ],
      "execution_count": 89,
      "outputs": [
        {
          "output_type": "execute_result",
          "data": {
            "text/html": [
              "\n",
              "<link rel=\"stylesheet\" type=\"text/css\" href=\"https://cdn.jsdelivr.net/gh/bmabey/pyLDAvis@3.3.1/pyLDAvis/js/ldavis.v1.0.0.css\">\n",
              "\n",
              "\n",
              "<div id=\"ldavis_el1721406284358270247506730166\"></div>\n",
              "<script type=\"text/javascript\">\n",
              "\n",
              "var ldavis_el1721406284358270247506730166_data = {\"mdsDat\": {\"x\": [-60.31231689453125, 60.31256103515625], \"y\": [141.36962890625, -141.369140625], \"topics\": [1, 2], \"cluster\": [1, 1], \"Freq\": [51.68056670737933, 48.319433292620666]}, \"tinfo\": {\"Term\": [\"turista\", \"viagem\", \"fot\\u00f3grafo\", \"turismo\", \"mundo\", \"hotel\", \"ano\", \"brasil\", \"conhecer\", \"parque\", \"registrar\", \"rir\", \"praia\", \"pacote\", \"brasileiro\", \"ilhar\", \"viajar\", \"atrair\", \"conferir\", \"parir\", \"tur\\u00edstico\", \"atra\\u00e7\\u00f5es\", \"imagem\", \"inaugurar\", \"a\\u00e9reo\", \"sul\", \"clicar\", \"ganhar\", \"site\", \"roteiro\", \"brasil\", \"parque\", \"a\\u00e9reo\", \"turismo\", \"brasileiro\", \"criar\", \"sul\", \"site\", \"abrir\", \"ganhar\", \"passar\", \"companhia\", \"hist\\u00f3ria\", \"esqui\", \"levar\", \"crise\", \"disney\", \"roteiro\", \"virar\", \"airbnb\", \"destaque\", \"it\\u00e1lia\", \"receber\", \"atra\\u00e7\\u00e3o\", \"sp\", \"argentino\", \"cubar\", \"vinho\", \"passear\", \"fechar\", \"turista\", \"tur\\u00edstico\", \"londres\", \"roto\", \"eua\", \"museu\", \"pa\\u00eds\", \"cruzeiro\", \"cidade\", \"fot\\u00f3grafo\", \"viagem\", \"mundo\", \"registrar\", \"praia\", \"ano\", \"pacote\", \"ilhar\", \"viajar\", \"rir\", \"conferir\", \"imagem\", \"clicar\", \"atrair\", \"inaugurar\", \"mar\", \"\\u00e1lbum\", \"atra\\u00e7\\u00f5es\", \"\\u00e1gua\", \"passeio\", \"paulo\", \"paisagem\", \"parir\", \"voltar\", \"york\", \"regi\\u00e3o\", \"conhecer\", \"guiar\", \"visitar\", \"ruir\", \"hotel\", \"chino\", \"mostrar\", \"avi\\u00e3o\", \"cidade\"], \"Freq\": [188.0, 115.0, 101.0, 112.0, 82.0, 105.0, 73.0, 77.0, 77.0, 64.0, 53.0, 52.0, 50.0, 50.0, 58.0, 47.0, 47.0, 42.0, 38.0, 41.0, 49.0, 36.0, 34.0, 33.0, 36.0, 34.0, 30.0, 34.0, 33.0, 34.0, 76.66726286790585, 63.70523082855734, 36.34976772648816, 110.98563932728118, 57.47998053100049, 32.215193260711686, 34.15997573990152, 33.03070164734137, 30.291180265740618, 33.54958971668297, 33.19468540456109, 24.73729208176517, 28.301180023684417, 23.78299121270787, 27.416189548343937, 26.72354662690965, 24.910728627341374, 33.95381270322138, 28.566316647472696, 24.61530411300934, 28.13816215456274, 30.991209330672948, 20.927818841810698, 20.823659960027257, 27.228081991436575, 21.330077706010602, 25.10040698471658, 20.837846147801276, 22.402476029403896, 22.03598650931503, 182.6818238712967, 47.327834750213384, 31.009757654713887, 22.957078678236602, 48.740144352324435, 49.80671333141643, 36.55162762825734, 28.64861877663508, 39.8177201687345, 101.48789870844872, 115.0606450152281, 81.76260895747853, 53.21365234506057, 50.39241384944135, 73.00987902774847, 49.67735236667818, 47.112490314651204, 46.76548678475212, 51.877213277766884, 38.285829789935576, 33.64755639298571, 29.57862449490213, 41.5397967063774, 33.34738215296342, 28.51045842749974, 26.34931233767473, 35.306400493337414, 26.43184744467227, 27.662673114071858, 26.225833663783398, 23.952037100446997, 40.06986143177749, 24.625146799134402, 23.162795718067482, 22.401044355808686, 75.24996454238455, 19.94249905052706, 27.279608998232444, 21.019311904623127, 100.20221364722522, 24.71210766559028, 28.291172724491794, 24.43750736168729, 39.971464413830084], \"Total\": [188.0, 115.0, 101.0, 112.0, 82.0, 105.0, 73.0, 77.0, 77.0, 64.0, 53.0, 52.0, 50.0, 50.0, 58.0, 47.0, 47.0, 42.0, 38.0, 41.0, 49.0, 36.0, 34.0, 33.0, 36.0, 34.0, 30.0, 34.0, 33.0, 34.0, 77.28274405068639, 64.28248291655409, 36.87482276345177, 112.63211151052191, 58.448722550598795, 32.780286160912745, 34.76406651323273, 33.626977733368534, 30.862154895047873, 34.194038608632894, 33.853919858279916, 25.251175928605218, 28.9162181715899, 24.30332462405115, 28.019211387856497, 27.327867454989708, 25.4830109888112, 34.7388727565626, 29.22825129326235, 25.1870152173782, 28.81390962862425, 31.745474472613306, 21.459074991688524, 21.372158313370008, 27.948541595769587, 21.89670060139994, 25.771676428506055, 21.441587725987112, 23.063169133774963, 22.692804317234494, 188.14600711013318, 49.264778412023915, 33.088159907395884, 23.84729337695549, 60.44935789693801, 73.87839209845717, 54.59705322059938, 35.84014873219688, 79.78918458256459, 101.99273148833934, 115.71428085256002, 82.3658304538813, 53.72382754869462, 50.93809402576205, 73.81615904494765, 50.24790329892885, 47.69787542523327, 47.35559379484984, 52.587274803408974, 38.86120405521162, 34.16341672537367, 30.081888389474017, 42.27489854191204, 33.94922057064732, 29.03497709454513, 26.83558644563737, 36.0099159594057, 26.9790410677835, 28.24743545118496, 26.80170038664732, 24.507456308096483, 41.07576784956531, 25.24343281275129, 23.752722197496443, 23.008672513711865, 77.30631437256453, 20.492937229360166, 28.038482552751994, 21.624707512249856, 105.92234325610634, 25.50196279337799, 29.3596123599377, 25.85561289140135, 79.78918458256459], \"Category\": [\"Default\", \"Default\", \"Default\", \"Default\", \"Default\", \"Default\", \"Default\", \"Default\", \"Default\", \"Default\", \"Default\", \"Default\", \"Default\", \"Default\", \"Default\", \"Default\", \"Default\", \"Default\", \"Default\", \"Default\", \"Default\", \"Default\", \"Default\", \"Default\", \"Default\", \"Default\", \"Default\", \"Default\", \"Default\", \"Default\", \"Topic1\", \"Topic1\", \"Topic1\", \"Topic1\", \"Topic1\", \"Topic1\", \"Topic1\", \"Topic1\", \"Topic1\", \"Topic1\", \"Topic1\", \"Topic1\", \"Topic1\", \"Topic1\", \"Topic1\", \"Topic1\", \"Topic1\", \"Topic1\", \"Topic1\", \"Topic1\", \"Topic1\", \"Topic1\", \"Topic1\", \"Topic1\", \"Topic1\", \"Topic1\", \"Topic1\", \"Topic1\", \"Topic1\", \"Topic1\", \"Topic1\", \"Topic1\", \"Topic1\", \"Topic1\", \"Topic1\", \"Topic1\", \"Topic1\", \"Topic1\", \"Topic1\", \"Topic2\", \"Topic2\", \"Topic2\", \"Topic2\", \"Topic2\", \"Topic2\", \"Topic2\", \"Topic2\", \"Topic2\", \"Topic2\", \"Topic2\", \"Topic2\", \"Topic2\", \"Topic2\", \"Topic2\", \"Topic2\", \"Topic2\", \"Topic2\", \"Topic2\", \"Topic2\", \"Topic2\", \"Topic2\", \"Topic2\", \"Topic2\", \"Topic2\", \"Topic2\", \"Topic2\", \"Topic2\", \"Topic2\", \"Topic2\", \"Topic2\", \"Topic2\", \"Topic2\", \"Topic2\", \"Topic2\"], \"logprob\": [30.0, 29.0, 28.0, 27.0, 26.0, 25.0, 24.0, 23.0, 22.0, 21.0, 20.0, 19.0, 18.0, 17.0, 16.0, 15.0, 14.0, 13.0, 12.0, 11.0, 10.0, 9.0, 8.0, 7.0, 6.0, 5.0, 4.0, 3.0, 2.0, 1.0, -3.6374, -3.8226, -4.3837, -3.2674, -3.9254, -4.5044, -4.4458, -4.4794, -4.566, -4.4638, -4.4745, -4.7685, -4.6339, -4.8079, -4.6657, -4.6913, -4.7615, -4.4518, -4.6246, -4.7735, -4.6397, -4.5431, -4.9358, -4.9408, -4.6726, -4.9167, -4.754, -4.9401, -4.8677, -4.8842, -2.7691, -4.1197, -4.5425, -4.8432, -4.0903, -4.0687, -4.3781, -4.6217, -4.2925, -3.2897, -3.1641, -3.5058, -3.9353, -3.9898, -3.619, -4.004, -4.0571, -4.0644, -3.9607, -4.2645, -4.3937, -4.5225, -4.1829, -4.4026, -4.5593, -4.6382, -4.3455, -4.635, -4.5895, -4.6428, -4.7335, -4.219, -4.7058, -4.767, -4.8005, -3.5888, -4.9167, -4.6035, -4.8642, -3.3024, -4.7023, -4.567, -4.7135, -4.2214], \"loglift\": [30.0, 29.0, 28.0, 27.0, 26.0, 25.0, 24.0, 23.0, 22.0, 21.0, 20.0, 19.0, 18.0, 17.0, 16.0, 15.0, 14.0, 13.0, 12.0, 11.0, 10.0, 9.0, 8.0, 7.0, 6.0, 5.0, 4.0, 3.0, 2.0, 1.0, 0.6521, 0.6511, 0.6457, 0.6454, 0.6434, 0.6427, 0.6426, 0.6422, 0.6414, 0.6411, 0.6404, 0.6395, 0.6386, 0.6384, 0.6383, 0.6377, 0.6374, 0.6372, 0.6372, 0.6371, 0.6364, 0.636, 0.635, 0.6341, 0.634, 0.6339, 0.6337, 0.6315, 0.631, 0.6307, 0.6306, 0.62, 0.5952, 0.622, 0.4448, 0.2658, 0.2588, 0.4361, -0.035, 0.7224, 0.7217, 0.72, 0.7178, 0.7166, 0.7164, 0.7159, 0.715, 0.7148, 0.7137, 0.7124, 0.7121, 0.7105, 0.7098, 0.7094, 0.7091, 0.709, 0.7076, 0.7068, 0.7064, 0.7056, 0.7044, 0.7025, 0.7025, 0.7022, 0.7006, 0.7004, 0.7001, 0.6999, 0.6989, 0.6718, 0.6959, 0.6903, 0.6709, 0.0361]}, \"token.table\": {\"Topic\": [1, 2, 1, 2, 1, 2, 1, 2, 1, 2, 1, 2, 1, 2, 1, 2, 1, 2, 1, 2, 1, 2, 1, 2, 1, 2, 1, 2, 1, 2, 1, 2, 1, 2, 1, 2, 1, 2, 1, 2, 1, 2, 1, 2, 1, 2, 1, 2, 1, 2, 1, 2, 1, 2, 1, 2, 1, 2, 1, 2, 1, 2, 1, 2, 1, 2, 1, 2, 1, 2, 1, 2, 1, 2, 1, 2, 1, 2, 1, 2, 1, 2, 1, 2, 1, 2, 1, 2, 1, 2, 1, 2, 1, 2, 1, 2, 1, 2, 1, 2, 1, 2, 1, 2, 1, 2, 1, 2, 1, 2, 1, 2, 1, 2, 1, 2, 1, 2, 1, 2, 1, 2, 1, 2, 1, 2, 1, 2, 1, 2, 1, 2, 1, 2, 1, 2, 1, 2, 1, 2, 1, 2, 1, 2, 2], \"Freq\": [0.9720643325788565, 0.03240214441929522, 0.9925749353083662, 0.03970299741233464, 0.013547169250449438, 0.988943355282809, 0.9590485974246453, 0.04566898082974502, 0.023654698993744085, 0.9934973577372516, 0.9825867697631084, 0.04678984617919564, 0.027770128681425105, 0.9719545038498787, 0.038676321625025725, 0.9282317190006174, 0.9762758788275766, 0.027118774411877128, 0.9963414335999644, 0.012939499137661875, 0.9752137859070462, 0.017109013787842915, 0.03921266798568409, 0.9803166996421022, 0.5013210776531828, 0.5013210776531828, 0.0332425939174055, 0.9972778175221649, 0.9900529017216708, 0.03960211606886683, 0.025732604645477816, 0.9778389765281571, 0.025871107893739996, 0.9701665460152499, 0.9761964811081131, 0.030506140034628534, 0.9880024500437248, 0.03659268333495277, 0.8091484278341721, 0.19531168947721395, 0.9700571893083174, 0.0388022875723327, 0.9717528916028911, 0.03470546041438897, 0.9810457646067305, 0.03924183058426922, 0.9875192127520293, 0.04114663386466789, 0.8105958723919222, 0.19851327487149115, 0.9694703084048396, 0.04406683220021998, 0.009804620245064505, 0.990266644751515, 0.9943253673292658, 0.029244863744978405, 0.048797299713937696, 0.975945994278754, 0.9683147302958836, 0.034582668939138694, 0.0566452725228405, 0.944087875380675, 0.020965294388583543, 0.9853688362634265, 0.029271076954585907, 0.9952166164559209, 0.02945575725130507, 0.9720399892930672, 0.9765171418919435, 0.031500552964256245, 0.9636245512499249, 0.03568979819444166, 0.9368910234585412, 0.06044458215861556, 0.03444121883560474, 0.9987953462325375, 0.03406039520346453, 0.9536910656970069, 0.0121409569294627, 0.9955584682159413, 0.67678787504424, 0.32485818002123523, 0.01990132790319467, 0.9950663951597333, 0.04080390830563806, 0.9792937993353135, 0.024345253962442547, 0.9738101584977018, 0.9956056004102893, 0.015556337506410771, 0.9747763372201915, 0.029538676885460347, 0.9539018628529242, 0.04335917558422383, 0.03540144384888047, 0.9912404277686533, 0.037311065550833585, 0.9700877043216732, 0.6776922529225434, 0.3296881230433995, 0.019631672898759184, 0.9815836449379594, 0.9786069533814327, 0.046600331113401554, 0.01861371472636815, 0.9865268804975119, 0.04346187288310774, 0.9561612034283702, 0.019016007270549317, 0.9888323780685645, 0.9787306640103047, 0.02878619600030308, 0.9644700401189235, 0.04193348000517058, 0.04624340002904201, 0.9711114006098822, 0.9813549187102124, 0.029738027839703404, 0.9660611415977011, 0.035780042281396335, 0.9780213712069072, 0.028765334447261977, 0.9855093588441743, 0.01775692538457972, 0.9726488635651943, 0.026575105561890553, 0.9540284461835485, 0.040596955156746745, 0.008641975671733835, 0.993827202249391, 0.021116829499216522, 0.9924909864631766, 0.9794050827004798, 0.04663833727145142, 0.9921907304350102, 0.03421347346327621, 0.03566526819411807, 0.9629622412411878, 0.039614263536093514, 0.9903565884023379, 0.042100437654484964, 0.9683100660531541, 0.03706580962190427, 0.963711050169511, 0.9688627469598969], \"Term\": [\"abrir\", \"abrir\", \"airbnb\", \"airbnb\", \"ano\", \"ano\", \"argentino\", \"argentino\", \"atrair\", \"atrair\", \"atra\\u00e7\\u00e3o\", \"atra\\u00e7\\u00e3o\", \"atra\\u00e7\\u00f5es\", \"atra\\u00e7\\u00f5es\", \"avi\\u00e3o\", \"avi\\u00e3o\", \"a\\u00e9reo\", \"a\\u00e9reo\", \"brasil\", \"brasil\", \"brasileiro\", \"brasileiro\", \"chino\", \"chino\", \"cidade\", \"cidade\", \"clicar\", \"clicar\", \"companhia\", \"companhia\", \"conferir\", \"conferir\", \"conhecer\", \"conhecer\", \"criar\", \"criar\", \"crise\", \"crise\", \"cruzeiro\", \"cruzeiro\", \"cubar\", \"cubar\", \"destaque\", \"destaque\", \"disney\", \"disney\", \"esqui\", \"esqui\", \"eua\", \"eua\", \"fechar\", \"fechar\", \"fot\\u00f3grafo\", \"fot\\u00f3grafo\", \"ganhar\", \"ganhar\", \"guiar\", \"guiar\", \"hist\\u00f3ria\", \"hist\\u00f3ria\", \"hotel\", \"hotel\", \"ilhar\", \"ilhar\", \"imagem\", \"imagem\", \"inaugurar\", \"inaugurar\", \"it\\u00e1lia\", \"it\\u00e1lia\", \"levar\", \"levar\", \"londres\", \"londres\", \"mar\", \"mar\", \"mostrar\", \"mostrar\", \"mundo\", \"mundo\", \"museu\", \"museu\", \"pacote\", \"pacote\", \"paisagem\", \"paisagem\", \"parir\", \"parir\", \"parque\", \"parque\", \"passar\", \"passar\", \"passear\", \"passear\", \"passeio\", \"passeio\", \"paulo\", \"paulo\", \"pa\\u00eds\", \"pa\\u00eds\", \"praia\", \"praia\", \"receber\", \"receber\", \"registrar\", \"registrar\", \"regi\\u00e3o\", \"regi\\u00e3o\", \"rir\", \"rir\", \"roteiro\", \"roteiro\", \"roto\", \"roto\", \"ruir\", \"ruir\", \"site\", \"site\", \"sp\", \"sp\", \"sul\", \"sul\", \"turismo\", \"turismo\", \"turista\", \"turista\", \"tur\\u00edstico\", \"tur\\u00edstico\", \"viagem\", \"viagem\", \"viajar\", \"viajar\", \"vinho\", \"vinho\", \"virar\", \"virar\", \"visitar\", \"visitar\", \"voltar\", \"voltar\", \"york\", \"york\", \"\\u00e1gua\", \"\\u00e1gua\", \"\\u00e1lbum\"]}, \"R\": 30, \"lambda.step\": 0.01, \"plot.opts\": {\"xlab\": \"PC1\", \"ylab\": \"PC2\"}, \"topic.order\": [1, 2]};\n",
              "\n",
              "function LDAvis_load_lib(url, callback){\n",
              "  var s = document.createElement('script');\n",
              "  s.src = url;\n",
              "  s.async = true;\n",
              "  s.onreadystatechange = s.onload = callback;\n",
              "  s.onerror = function(){console.warn(\"failed to load library \" + url);};\n",
              "  document.getElementsByTagName(\"head\")[0].appendChild(s);\n",
              "}\n",
              "\n",
              "if(typeof(LDAvis) !== \"undefined\"){\n",
              "   // already loaded: just create the visualization\n",
              "   !function(LDAvis){\n",
              "       new LDAvis(\"#\" + \"ldavis_el1721406284358270247506730166\", ldavis_el1721406284358270247506730166_data);\n",
              "   }(LDAvis);\n",
              "}else if(typeof define === \"function\" && define.amd){\n",
              "   // require.js is available: use it to load d3/LDAvis\n",
              "   require.config({paths: {d3: \"https://d3js.org/d3.v5\"}});\n",
              "   require([\"d3\"], function(d3){\n",
              "      window.d3 = d3;\n",
              "      LDAvis_load_lib(\"https://cdn.jsdelivr.net/gh/bmabey/pyLDAvis@3.3.1/pyLDAvis/js/ldavis.v3.0.0.js\", function(){\n",
              "        new LDAvis(\"#\" + \"ldavis_el1721406284358270247506730166\", ldavis_el1721406284358270247506730166_data);\n",
              "      });\n",
              "    });\n",
              "}else{\n",
              "    // require.js not available: dynamically load d3 & LDAvis\n",
              "    LDAvis_load_lib(\"https://d3js.org/d3.v5.js\", function(){\n",
              "         LDAvis_load_lib(\"https://cdn.jsdelivr.net/gh/bmabey/pyLDAvis@3.3.1/pyLDAvis/js/ldavis.v3.0.0.js\", function(){\n",
              "                 new LDAvis(\"#\" + \"ldavis_el1721406284358270247506730166\", ldavis_el1721406284358270247506730166_data);\n",
              "            })\n",
              "         });\n",
              "}\n",
              "</script>"
            ],
            "text/plain": [
              "PreparedData(topic_coordinates=               x           y  topics  cluster       Freq\n",
              "topic                                                   \n",
              "0     -60.312317  141.369629       1        1  51.680567\n",
              "1      60.312561 -141.369141       2        1  48.319433, topic_info=          Term        Freq       Total Category  logprob  loglift\n",
              "214    turista  188.000000  188.000000  Default  30.0000  30.0000\n",
              "221     viagem  115.000000  115.000000  Default  29.0000  29.0000\n",
              "103  fotógrafo  101.000000  101.000000  Default  28.0000  28.0000\n",
              "213    turismo  112.000000  112.000000  Default  27.0000  27.0000\n",
              "138      mundo   82.000000   82.000000  Default  26.0000  26.0000\n",
              "..         ...         ...         ...      ...      ...      ...\n",
              "114      hotel  100.202214  105.922343   Topic2  -3.3024   0.6718\n",
              "49       chino   24.712108   25.501963   Topic2  -4.7023   0.6959\n",
              "137    mostrar   28.291173   29.359612   Topic2  -4.5670   0.6903\n",
              "28       avião   24.437507   25.855613   Topic2  -4.7135   0.6709\n",
              "50      cidade   39.971464   79.789185   Topic2  -4.2214   0.0361\n",
              "\n",
              "[104 rows x 6 columns], token_table=      Topic      Freq    Term\n",
              "term                         \n",
              "6         1  0.972064   abrir\n",
              "6         2  0.032402   abrir\n",
              "9         1  0.992575  airbnb\n",
              "9         2  0.039703  airbnb\n",
              "18        1  0.013547     ano\n",
              "...     ...       ...     ...\n",
              "236       1  0.042100    york\n",
              "236       2  0.968310    york\n",
              "238       1  0.037066    água\n",
              "238       2  0.963711    água\n",
              "239       2  0.968863   álbum\n",
              "\n",
              "[145 rows x 3 columns], R=30, lambda_step=0.01, plot_opts={'xlab': 'PC1', 'ylab': 'PC2'}, topic_order=[1, 2])"
            ]
          },
          "metadata": {
            "tags": []
          },
          "execution_count": 89
        }
      ]
    }
  ]
}